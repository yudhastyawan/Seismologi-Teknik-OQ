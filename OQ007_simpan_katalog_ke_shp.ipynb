{
 "cells": [
  {
   "cell_type": "markdown",
   "id": "4b08976c",
   "metadata": {},
   "source": [
    "# Simpan data katalog ke shp"
   ]
  },
  {
   "cell_type": "markdown",
   "id": "a34a27a1",
   "metadata": {},
   "source": [
    "Jalankan file ini di jupyter dengan cara mengubah kernel ke `maps`. Jika kernel `maps` belum ada, lakukan langkah-langkah berikut ini:\n",
    "\n",
    "1. Buka Anaconda Prompt\n",
    "2. Buat environment baru: `conda create -n maps python=3.9`\n",
    "3. Aktifkan environment `maps`: `conda activate maps`\n",
    "4. Install `geopandas`: `pip install geopandas`\n",
    "5. Install `matplotlib`: `pip install matplotlib`\n",
    "6. Install `ipykernel`: `pip install ipykernel`\n",
    "7. Daftarkan ke dalam kernel: `python -m ipykernel install --name \"maps\" --display-name \"maps\"`\n",
    "\n",
    "Data yang disimpan dalam format shp dapat digunakan di QGIS"
   ]
  },
  {
   "cell_type": "markdown",
   "id": "14ac00b8",
   "metadata": {},
   "source": [
    "## 1. Import packages"
   ]
  },
  {
   "cell_type": "code",
   "execution_count": 1,
   "id": "87b561eb",
   "metadata": {},
   "outputs": [],
   "source": [
    "import os\n",
    "import pickle\n",
    "import pandas as pd\n",
    "import geopandas as gpd\n",
    "from shapely.geometry import Point, LineString, Polygon\n",
    "import numpy as np\n",
    "import matplotlib.pyplot as plt\n",
    "from matplotlib.lines import Line2D\n",
    "from custom_maps import *"
   ]
  },
  {
   "cell_type": "markdown",
   "id": "f0412017",
   "metadata": {},
   "source": [
    "## 2. Simpan dict katalog ke shp"
   ]
  },
  {
   "cell_type": "code",
   "execution_count": 2,
   "id": "c786d961",
   "metadata": {
    "scrolled": true
   },
   "outputs": [
    {
     "name": "stderr",
     "output_type": "stream",
     "text": [
      "/Users/yudhastyawan/Documents/projects/openquake/Seismologi-Teknik-OQ/custom_maps.py:53: UserWarning: Column names longer than 10 characters will be truncated when saved to ESRI Shapefile.\n",
      "  gdf.to_file(os.path.join(savedir, name_file))\n"
     ]
    }
   ],
   "source": [
    "catalogue_sumatera_fault_filt_2 = open_pkl(\"dict_catalogue_sumatera_fault_filt_2.pkl\")\n",
    "catalogue_to_shp(catalogue_sumatera_fault_filt_2, \"catalogue_sumatera_fault_filt_2.shp\")"
   ]
  },
  {
   "cell_type": "markdown",
   "id": "06b6686f",
   "metadata": {},
   "source": [
    "## 3. Simpan area faults ke shp"
   ]
  },
  {
   "cell_type": "code",
   "execution_count": 3,
   "id": "9baece4f",
   "metadata": {},
   "outputs": [],
   "source": [
    "# buka koordinat area faults\n",
    "area_faults_coords = open_pkl(\"tmp_OQ004_area_faults_coords.pkl\")\n",
    "\n",
    "area_sumatera_faults = Polygon(area_faults_coords[\"merged\"][0])\n",
    "area_mentawai_fault = Polygon(area_faults_coords[\"individual\"][0])\n",
    "\n",
    "polygon_to_shp(area_sumatera_faults, \"area_sumatera_faults.shp\")\n",
    "polygon_to_shp(area_mentawai_fault, \"area_mentawai_fault.shp\")"
   ]
  },
  {
   "cell_type": "code",
   "execution_count": null,
   "id": "835e7b64",
   "metadata": {},
   "outputs": [],
   "source": []
  }
 ],
 "metadata": {
  "kernelspec": {
   "display_name": "maps",
   "language": "python",
   "name": "maps"
  },
  "language_info": {
   "codemirror_mode": {
    "name": "ipython",
    "version": 3
   },
   "file_extension": ".py",
   "mimetype": "text/x-python",
   "name": "python",
   "nbconvert_exporter": "python",
   "pygments_lexer": "ipython3",
   "version": "3.9.16"
  }
 },
 "nbformat": 4,
 "nbformat_minor": 5
}
