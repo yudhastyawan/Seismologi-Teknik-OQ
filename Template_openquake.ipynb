{
 "cells": [
  {
   "cell_type": "markdown",
   "id": "7fe4f2ac",
   "metadata": {},
   "source": [
    "# Template openquake"
   ]
  },
  {
   "cell_type": "markdown",
   "id": "3d34b34a",
   "metadata": {},
   "source": [
    "Jalankan file ini di Openquake yang sudah diinstal di komputer masing-masing.\n",
    "\n",
    "atau:\n",
    "\n",
    "Jalankan file ini di jupyter dengan cara mengubah kernel ke `openquake`. Jika kernel `openquake` belum ada, lakukan langkah-langkah berikut ini:\n",
    "\n",
    "Openquake dapat diunduh di sini:\n",
    "https://downloads.openquake.org/pkgs/windows/oq-engine/OpenQuake_Engine_3.11.5-1.exe\n",
    "\n",
    "Install beberapa tambahan packages di openquake:\n",
    "\n",
    "(Asumsi lokasi instalasi openquake di sini: `C:\\Program Files\\Openquake Engine\\python3.6\\`, \n",
    "jika tidak maka ubah lokasi tersebut sesuai dengan komputer masing-masing)\n",
    "\n",
    "1. Buka Command Prompt\n",
    "2. Install `utm`: `\"C:\\Program Files\\Openquake Engine\\python3.6\\python.exe\" -m pip install utm`\n",
    "3. Install `jupyter`: `\"C:\\Program Files\\Openquake Engine\\python3.6\\python.exe\" -m pip install jupyter`\n",
    "4. Daftarkan ke dalam kernel (opsional): `python -m ipykernel install --name \"openquake\" --display-name \"openquake\"`\n",
    "\n",
    "\n",
    "Untuk uji coba, jalankan salah satu baris di bawah ini:\n",
    "\n",
    "`\"C:\\Program Files\\Openquake Engine\\python3.6\\Scripts\\jupyter.exe\" notebook`\n",
    "\n",
    "atau\n",
    "\n",
    "`\"C:\\Program Files\\Openquake Engine\\python3.6\\Scripts\\jupyter-notebook.exe\"`"
   ]
  },
  {
   "cell_type": "markdown",
   "id": "41fb843b",
   "metadata": {},
   "source": [
    "## 1. Import packages"
   ]
  },
  {
   "cell_type": "markdown",
   "id": "6f3ae3f3",
   "metadata": {},
   "source": [
    "Hal ini memastikan apakah python yang digunakan sudah menyediakan packages yang dibutuhkan."
   ]
  },
  {
   "cell_type": "code",
   "execution_count": 1,
   "id": "59458d28",
   "metadata": {
    "vscode": {
     "languageId": "python"
    }
   },
   "outputs": [],
   "source": [
    "from openquake.hmtk.parsers.catalogue import *\n",
    "from openquake.hmtk.plotting.seismicity.catalogue_plots import *\n",
    "from openquake.hmtk.seismicity.declusterer.dec_gardner_knopoff import *\n",
    "from openquake.hmtk.seismicity.declusterer.distance_time_windows import *\n",
    "from openquake.hmtk.seismicity.selector import *\n",
    "from openquake.hazardlib.geo.polygon import Polygon as PolyOQ\n",
    "from openquake.hazardlib.geo.point import Point as PointOQ\n",
    "from openquake.hazardlib.geo.line import Line as LineOQ\n",
    "from openquake.hmtk.seismicity.completeness.comp_stepp_1971 import Stepp1971\n",
    "from openquake.hmtk.seismicity.occurrence.b_maximum_likelihood import BMaxLikelihood\n",
    "from openquake.hmtk.plotting.seismicity.completeness.plot_stepp_1972 import create_stepp_plot\n",
    "from openquake.hmtk.seismicity.smoothing.smoothed_seismicity import SmoothedSeismicity\n",
    "from openquake.hmtk.seismicity.smoothing.kernels.isotropic_gaussian import IsotropicGaussian\n",
    "from openquake.hazardlib.geo.surface.complex_fault import ComplexFaultSurface\n",
    "from shapely.geometry import *\n",
    "from shapely.ops import *\n",
    "import os\n",
    "import utm\n",
    "import numpy as np\n",
    "import matplotlib.pyplot as plt\n",
    "from copy import deepcopy\n",
    "import pickle\n",
    "from custom_openquake import *"
   ]
  },
  {
   "cell_type": "markdown",
   "id": "d01ab0e9",
   "metadata": {},
   "source": [
    "## 2. Tambahan"
   ]
  },
  {
   "cell_type": "markdown",
   "id": "6467d5e2",
   "metadata": {},
   "source": [
    "### 2.2 Variabel"
   ]
  },
  {
   "cell_type": "code",
   "execution_count": 2,
   "id": "6583c093",
   "metadata": {
    "vscode": {
     "languageId": "python"
    }
   },
   "outputs": [],
   "source": [
    "# folder penyimpanan\n",
    "dir_figs = os.path.join(os.getcwd(), 'figs')\n",
    "os.makedirs(dir_figs, exist_ok=True)"
   ]
  },
  {
   "cell_type": "markdown",
   "id": "34ac3ccb",
   "metadata": {},
   "source": [
    "## 3. Lakukan di bawah ini"
   ]
  },
  {
   "cell_type": "code",
   "execution_count": null,
   "id": "52fed0c9",
   "metadata": {},
   "outputs": [],
   "source": []
  }
 ],
 "metadata": {
  "kernelspec": {
   "display_name": "Python 3 (ipykernel)",
   "language": "python",
   "name": "python3"
  },
  "language_info": {
   "codemirror_mode": {
    "name": "ipython",
    "version": 3
   },
   "file_extension": ".py",
   "mimetype": "text/x-python",
   "name": "python",
   "nbconvert_exporter": "python",
   "pygments_lexer": "ipython3",
   "version": "3.9.10"
  }
 },
 "nbformat": 4,
 "nbformat_minor": 5
}
