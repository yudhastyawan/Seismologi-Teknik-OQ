{
 "cells": [
  {
   "cell_type": "markdown",
   "id": "7fe4f2ac",
   "metadata": {},
   "source": [
    "# Pemisahan katalog berdasarkan sumber gempa"
   ]
  },
  {
   "cell_type": "markdown",
   "id": "3d34b34a",
   "metadata": {},
   "source": [
    "Jalankan file ini di Openquake yang sudah diinstal di komputer masing-masing.\n",
    "\n",
    "atau:\n",
    "\n",
    "Jalankan file ini di jupyter dengan cara mengubah kernel ke `openquake`. Jika kernel `openquake` belum ada, lakukan langkah-langkah berikut ini:\n",
    "\n",
    "Openquake dapat diunduh di sini:\n",
    "https://downloads.openquake.org/pkgs/windows/oq-engine/OpenQuake_Engine_3.11.5-1.exe\n",
    "\n",
    "Install beberapa tambahan packages di openquake:\n",
    "\n",
    "(Asumsi lokasi instalasi openquake di sini: `C:\\Program Files\\Openquake Engine\\python3.6\\`, \n",
    "jika tidak maka ubah lokasi tersebut sesuai dengan komputer masing-masing)\n",
    "\n",
    "1. Buka Command Prompt\n",
    "2. Install `utm`: `\"C:\\Program Files\\Openquake Engine\\python3.6\\python.exe\" -m pip install utm`\n",
    "3. Install `jupyter`: `\"C:\\Program Files\\Openquake Engine\\python3.6\\python.exe\" -m pip install jupyter`\n",
    "4. Daftarkan ke dalam kernel (opsional): `python -m ipykernel install --name \"openquake\" --display-name \"openquake\"`\n",
    "\n",
    "\n",
    "Untuk uji coba, jalankan salah satu baris di bawah ini:\n",
    "\n",
    "`\"C:\\Program Files\\Openquake Engine\\python3.6\\Scripts\\jupyter.exe\" notebook`\n",
    "\n",
    "atau\n",
    "\n",
    "`\"C:\\Program Files\\Openquake Engine\\python3.6\\Scripts\\jupyter-notebook.exe\"`"
   ]
  },
  {
   "cell_type": "markdown",
   "id": "41fb843b",
   "metadata": {},
   "source": [
    "## 1. Import packages"
   ]
  },
  {
   "cell_type": "markdown",
   "id": "6f3ae3f3",
   "metadata": {},
   "source": [
    "Hal ini memastikan apakah python yang digunakan sudah menyediakan packages yang dibutuhkan."
   ]
  },
  {
   "cell_type": "code",
   "execution_count": 10,
   "id": "59458d28",
   "metadata": {
    "vscode": {
     "languageId": "python"
    }
   },
   "outputs": [],
   "source": [
    "from openquake.hmtk.parsers.catalogue import *\n",
    "from openquake.hmtk.plotting.seismicity.catalogue_plots import *\n",
    "from openquake.hmtk.seismicity.declusterer.dec_gardner_knopoff import *\n",
    "from openquake.hmtk.seismicity.declusterer.distance_time_windows import *\n",
    "from openquake.hmtk.seismicity.selector import *\n",
    "from openquake.hazardlib.geo.polygon import Polygon as PolyOQ\n",
    "from openquake.hazardlib.geo.point import Point as PointOQ\n",
    "from openquake.hazardlib.geo.line import Line as LineOQ\n",
    "from openquake.hmtk.seismicity.completeness.comp_stepp_1971 import Stepp1971\n",
    "from openquake.hmtk.seismicity.occurrence.b_maximum_likelihood import BMaxLikelihood\n",
    "from openquake.hmtk.plotting.seismicity.completeness.plot_stepp_1972 import create_stepp_plot\n",
    "from openquake.hmtk.seismicity.smoothing.smoothed_seismicity import SmoothedSeismicity\n",
    "from openquake.hmtk.seismicity.smoothing.kernels.isotropic_gaussian import IsotropicGaussian\n",
    "from openquake.hazardlib.geo.surface.complex_fault import ComplexFaultSurface\n",
    "from shapely.geometry import *\n",
    "from shapely.ops import *\n",
    "import os\n",
    "import utm\n",
    "import numpy as np\n",
    "import matplotlib.pyplot as plt\n",
    "from copy import deepcopy\n",
    "import pickle\n",
    "# from custom_openquake import *"
   ]
  },
  {
   "cell_type": "markdown",
   "id": "d01ab0e9",
   "metadata": {},
   "source": [
    "## 2. Tambahan"
   ]
  },
  {
   "cell_type": "markdown",
   "id": "6467d5e2",
   "metadata": {},
   "source": [
    "### 2.2 Variabel"
   ]
  },
  {
   "cell_type": "code",
   "execution_count": 3,
   "id": "6583c093",
   "metadata": {
    "vscode": {
     "languageId": "python"
    }
   },
   "outputs": [],
   "source": [
    "# folder penyimpanan\n",
    "dir_figs = os.path.join(os.getcwd(), 'figs')\n",
    "os.makedirs(dir_figs, exist_ok=True)"
   ]
  },
  {
   "cell_type": "markdown",
   "id": "34ac3ccb",
   "metadata": {},
   "source": [
    "## 3. Katalog gempa (declustered)"
   ]
  },
  {
   "cell_type": "code",
   "execution_count": 4,
   "id": "5d403477",
   "metadata": {
    "vscode": {
     "languageId": "python"
    }
   },
   "outputs": [],
   "source": [
    "# membuka data pkl\n",
    "catalogue_declustered = open_pkl('tmp_OQ002_catalogue_declustered.pkl')"
   ]
  },
  {
   "cell_type": "markdown",
   "id": "26c7b985",
   "metadata": {},
   "source": [
    "## 4. Patahan"
   ]
  },
  {
   "cell_type": "code",
   "execution_count": 5,
   "id": "6365d170",
   "metadata": {},
   "outputs": [
    {
     "name": "stderr",
     "output_type": "stream",
     "text": [
      "/Users/yudhastyawan/openquake/lib/python3.9/site-packages/pyproj/crs/crs.py:141: FutureWarning: '+init=<authority>:<code>' syntax is deprecated. '<authority>:<code>' is the preferred initialization method. When making the change, be mindful of axis order changes: https://pyproj4.github.io/pyproj/stable/gotchas.html#axis-order-changes-in-proj-6\n",
      "  in_crs_string = _prepare_from_proj_string(in_crs_string)\n",
      "/Users/yudhastyawan/openquake/lib/python3.9/site-packages/pyproj/crs/crs.py:141: FutureWarning: '+init=<authority>:<code>' syntax is deprecated. '<authority>:<code>' is the preferred initialization method. When making the change, be mindful of axis order changes: https://pyproj4.github.io/pyproj/stable/gotchas.html#axis-order-changes-in-proj-6\n",
      "  in_crs_string = _prepare_from_proj_string(in_crs_string)\n",
      "/Users/yudhastyawan/openquake/lib/python3.9/site-packages/pyproj/crs/crs.py:141: FutureWarning: '+init=<authority>:<code>' syntax is deprecated. '<authority>:<code>' is the preferred initialization method. When making the change, be mindful of axis order changes: https://pyproj4.github.io/pyproj/stable/gotchas.html#axis-order-changes-in-proj-6\n",
      "  in_crs_string = _prepare_from_proj_string(in_crs_string)\n",
      "/Users/yudhastyawan/openquake/lib/python3.9/site-packages/pyproj/crs/crs.py:141: FutureWarning: '+init=<authority>:<code>' syntax is deprecated. '<authority>:<code>' is the preferred initialization method. When making the change, be mindful of axis order changes: https://pyproj4.github.io/pyproj/stable/gotchas.html#axis-order-changes-in-proj-6\n",
      "  in_crs_string = _prepare_from_proj_string(in_crs_string)\n",
      "/Users/yudhastyawan/openquake/lib/python3.9/site-packages/pyproj/crs/crs.py:141: FutureWarning: '+init=<authority>:<code>' syntax is deprecated. '<authority>:<code>' is the preferred initialization method. When making the change, be mindful of axis order changes: https://pyproj4.github.io/pyproj/stable/gotchas.html#axis-order-changes-in-proj-6\n",
      "  in_crs_string = _prepare_from_proj_string(in_crs_string)\n",
      "/Users/yudhastyawan/openquake/lib/python3.9/site-packages/pyproj/crs/crs.py:141: FutureWarning: '+init=<authority>:<code>' syntax is deprecated. '<authority>:<code>' is the preferred initialization method. When making the change, be mindful of axis order changes: https://pyproj4.github.io/pyproj/stable/gotchas.html#axis-order-changes-in-proj-6\n",
      "  in_crs_string = _prepare_from_proj_string(in_crs_string)\n",
      "/Users/yudhastyawan/openquake/lib/python3.9/site-packages/pyproj/crs/crs.py:141: FutureWarning: '+init=<authority>:<code>' syntax is deprecated. '<authority>:<code>' is the preferred initialization method. When making the change, be mindful of axis order changes: https://pyproj4.github.io/pyproj/stable/gotchas.html#axis-order-changes-in-proj-6\n",
      "  in_crs_string = _prepare_from_proj_string(in_crs_string)\n",
      "/Users/yudhastyawan/openquake/lib/python3.9/site-packages/pyproj/crs/crs.py:141: FutureWarning: '+init=<authority>:<code>' syntax is deprecated. '<authority>:<code>' is the preferred initialization method. When making the change, be mindful of axis order changes: https://pyproj4.github.io/pyproj/stable/gotchas.html#axis-order-changes-in-proj-6\n",
      "  in_crs_string = _prepare_from_proj_string(in_crs_string)\n",
      "/Users/yudhastyawan/openquake/lib/python3.9/site-packages/pyproj/crs/crs.py:141: FutureWarning: '+init=<authority>:<code>' syntax is deprecated. '<authority>:<code>' is the preferred initialization method. When making the change, be mindful of axis order changes: https://pyproj4.github.io/pyproj/stable/gotchas.html#axis-order-changes-in-proj-6\n",
      "  in_crs_string = _prepare_from_proj_string(in_crs_string)\n",
      "/Users/yudhastyawan/openquake/lib/python3.9/site-packages/pyproj/crs/crs.py:141: FutureWarning: '+init=<authority>:<code>' syntax is deprecated. '<authority>:<code>' is the preferred initialization method. When making the change, be mindful of axis order changes: https://pyproj4.github.io/pyproj/stable/gotchas.html#axis-order-changes-in-proj-6\n",
      "  in_crs_string = _prepare_from_proj_string(in_crs_string)\n",
      "/Users/yudhastyawan/openquake/lib/python3.9/site-packages/pyproj/crs/crs.py:141: FutureWarning: '+init=<authority>:<code>' syntax is deprecated. '<authority>:<code>' is the preferred initialization method. When making the change, be mindful of axis order changes: https://pyproj4.github.io/pyproj/stable/gotchas.html#axis-order-changes-in-proj-6\n",
      "  in_crs_string = _prepare_from_proj_string(in_crs_string)\n",
      "/Users/yudhastyawan/openquake/lib/python3.9/site-packages/pyproj/crs/crs.py:141: FutureWarning: '+init=<authority>:<code>' syntax is deprecated. '<authority>:<code>' is the preferred initialization method. When making the change, be mindful of axis order changes: https://pyproj4.github.io/pyproj/stable/gotchas.html#axis-order-changes-in-proj-6\n",
      "  in_crs_string = _prepare_from_proj_string(in_crs_string)\n",
      "/Users/yudhastyawan/openquake/lib/python3.9/site-packages/pyproj/crs/crs.py:141: FutureWarning: '+init=<authority>:<code>' syntax is deprecated. '<authority>:<code>' is the preferred initialization method. When making the change, be mindful of axis order changes: https://pyproj4.github.io/pyproj/stable/gotchas.html#axis-order-changes-in-proj-6\n",
      "  in_crs_string = _prepare_from_proj_string(in_crs_string)\n",
      "/Users/yudhastyawan/openquake/lib/python3.9/site-packages/pyproj/crs/crs.py:141: FutureWarning: '+init=<authority>:<code>' syntax is deprecated. '<authority>:<code>' is the preferred initialization method. When making the change, be mindful of axis order changes: https://pyproj4.github.io/pyproj/stable/gotchas.html#axis-order-changes-in-proj-6\n",
      "  in_crs_string = _prepare_from_proj_string(in_crs_string)\n"
     ]
    }
   ],
   "source": [
    "# membuka data pkl\n",
    "faults = open_pkl('tmp_OQ003_faults.pkl')\n",
    "\n",
    "# membuat area dari patahan\n",
    "area_faults, area_faults_coords = create_area_faults(faults, distance=20)\n",
    "\n",
    "# memisahkan katalog berdasarkan area patahan\n",
    "catalogue_area_faults = create_catalogue_from_area_faults(catalogue_declustered, area_faults, depth=20)"
   ]
  },
  {
   "cell_type": "code",
   "execution_count": 6,
   "id": "b474e0ef",
   "metadata": {},
   "outputs": [],
   "source": [
    "# area patahan sumatera\n",
    "catalogue_to_pkl(catalogue_area_faults['merged'][0], \"dict_catalogue_area_sumatera_fault.pkl\")\n",
    "\n",
    "# area patahan mentawai\n",
    "catalogue_to_pkl(catalogue_area_faults['individual'][0], \"dict_catalogue_area_mentawai_fault.pkl\")\n",
    "\n",
    "# simpan variabel untuk dipakai di tahapan berikutnya\n",
    "variable_to_pkl(catalogue_area_faults, \"tmp_OQ004_catalogue_area_faults.pkl\")\n",
    "variable_to_pkl(area_faults_coords, \"tmp_OQ004_area_faults_coords.pkl\")"
   ]
  },
  {
   "cell_type": "markdown",
   "id": "b8e6e3fa",
   "metadata": {},
   "source": [
    "## 5. Megathrust"
   ]
  },
  {
   "cell_type": "code",
   "execution_count": 6,
   "id": "1de7a01c",
   "metadata": {},
   "outputs": [],
   "source": [
    "megathrust_geoms = open_pkl(\"tmp_OQ003_megathrust_geoms.pkl\")\n",
    "\n",
    "catalogue_megathrusts = create_catalogue_megathrusts(catalogue_declustered, megathrust_geoms, distance = 20)\n",
    "\n",
    "# katalog 1\n",
    "catalogue_to_pkl(catalogue_megathrusts[0], \"dict_catalogue_megathrust_1.pkl\")\n",
    "\n",
    "# katalog 2\n",
    "catalogue_to_pkl(catalogue_megathrusts[1], \"dict_catalogue_megathrust_2.pkl\")\n",
    "\n",
    "# simpan variabel untuk dipakai di tahapan berikutnya\n",
    "variable_to_pkl(catalogue_megathrusts, \"tmp_OQ004_catalogue_megathrusts.pkl\")"
   ]
  },
  {
   "cell_type": "markdown",
   "id": "cc8c3cba",
   "metadata": {},
   "source": [
    "## 6. Shallow Background"
   ]
  },
  {
   "cell_type": "code",
   "execution_count": 7,
   "id": "8601e402",
   "metadata": {},
   "outputs": [],
   "source": [
    "shallow_background_geoms = open_pkl(\"tmp_OQ003_shallow_background_geoms.pkl\")\n",
    "\n",
    "catalogue_shallow_backgrounds = create_catalogue_from_shallow_backgrounds(\n",
    "    catalogue_declustered, shallow_background_geoms, lower_depth=20\n",
    ")\n",
    "\n",
    "for i in range(len(catalogue_shallow_backgrounds)):\n",
    "    catalogue_to_pkl(catalogue_shallow_backgrounds[i], f\"dict_catalogue_shallow_backgrounds_{i+1}.pkl\")\n",
    "\n",
    "# simpan variabel untuk dipakai di tahapan berikutnya\n",
    "variable_to_pkl(catalogue_shallow_backgrounds, \"tmp_OQ004_catalogue_shallow_backgrounds.pkl\")"
   ]
  },
  {
   "cell_type": "markdown",
   "id": "45d6948c",
   "metadata": {},
   "source": [
    "## 7. Deep Background (intraslab)"
   ]
  },
  {
   "cell_type": "code",
   "execution_count": 8,
   "id": "69982d94",
   "metadata": {},
   "outputs": [],
   "source": [
    "deep_background_geoms = open_pkl(\"tmp_OQ003_deep_background_geoms.pkl\")\n",
    "\n",
    "def create_catalogue_from_deep_backgrounds(catalogue, deep_background_geoms, \n",
    "                                           upper_depth=50, increment=100, lower_depth=350):\n",
    "    range_list = list(range(upper_depth, lower_depth, increment)) + [lower_depth]\n",
    "    \n",
    "    poly_background = [\n",
    "        PolyOQ([PointOQ(lon, lat) for lon, lat in zip(*geom)]) for geom in deep_background_geoms\n",
    "    ]\n",
    "    \n",
    "    catalogue_backgrounds = [\n",
    "        [\n",
    "            copy_cutPoly_cutDepth(catalogue, poly, \n",
    "                                  lower_depth = range_list[i+1], upper_depth = range_list[i]\n",
    "                                 ) for i in range(len(range_list)-1)\n",
    "        ] for poly in poly_background\n",
    "    ]\n",
    "    return catalogue_backgrounds, range_list\n",
    "\n",
    "catalogue_deep_backgrounds, range_list = create_catalogue_from_deep_backgrounds(\n",
    "    catalogue_declustered, deep_background_geoms, upper_depth=50, increment=100, lower_depth=350\n",
    ")\n",
    "\n",
    "for i in range(len(catalogue_deep_backgrounds)):\n",
    "    for j in range(len(range_list)-1):\n",
    "        catalogue_to_pkl(\n",
    "            catalogue_deep_backgrounds[i][j], \n",
    "            f\"dict_catalogue_deep_backgrounds_{i+1}_{range_list[j]}-{range_list[j+1]}.pkl\"\n",
    "        )\n",
    "\n",
    "# simpan variabel untuk dipakai di tahapan berikutnya\n",
    "variable_to_pkl((catalogue_deep_backgrounds, range_list), \"tmp_OQ004_catalogue_deep_backgrounds.pkl\")"
   ]
  },
  {
   "cell_type": "code",
   "execution_count": null,
   "id": "970f6cd3",
   "metadata": {},
   "outputs": [],
   "source": []
  }
 ],
 "metadata": {
  "kernelspec": {
   "display_name": "Python 3 (ipykernel)",
   "language": "python",
   "name": "python3"
  },
  "language_info": {
   "codemirror_mode": {
    "name": "ipython",
    "version": 3
   },
   "file_extension": ".py",
   "mimetype": "text/x-python",
   "name": "python",
   "nbconvert_exporter": "python",
   "pygments_lexer": "ipython3",
   "version": "3.9.10"
  }
 },
 "nbformat": 4,
 "nbformat_minor": 5
}
