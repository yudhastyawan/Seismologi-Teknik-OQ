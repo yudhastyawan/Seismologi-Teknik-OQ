{
 "cells": [
  {
   "cell_type": "markdown",
   "id": "7fe4f2ac",
   "metadata": {},
   "source": [
    "# Membuat source model xml untuk OpenQuake"
   ]
  },
  {
   "cell_type": "markdown",
   "id": "3d34b34a",
   "metadata": {},
   "source": [
    "Jalankan file ini di Openquake yang sudah diinstal di komputer masing-masing.\n",
    "\n",
    "atau:\n",
    "\n",
    "Jalankan file ini di jupyter dengan cara mengubah kernel ke `openquake`. Jika kernel `openquake` belum ada, lakukan langkah-langkah berikut ini:\n",
    "\n",
    "Openquake dapat diunduh di sini:\n",
    "https://downloads.openquake.org/pkgs/windows/oq-engine/OpenQuake_Engine_3.11.5-1.exe\n",
    "\n",
    "Install beberapa tambahan packages di openquake:\n",
    "\n",
    "(Asumsi lokasi instalasi openquake di sini: `C:\\Program Files\\Openquake Engine\\python3.6\\`, \n",
    "jika tidak maka ubah lokasi tersebut sesuai dengan komputer masing-masing)\n",
    "\n",
    "1. Buka Command Prompt\n",
    "2. Install `jupyter`: `\"C:\\Program Files\\Openquake Engine\\python3.6\\python.exe\" -m pip install jupyter`\n",
    "3. Daftarkan ke dalam kernel (opsional): `\"C:\\Program Files\\Openquake Engine\\python3.6\\python.exe\" -m ipykernel install --name \"openquake\" --display-name \"openquake\"`\n",
    "\n",
    "\n",
    "Untuk uji coba, jalankan salah satu baris di bawah ini:\n",
    "\n",
    "`\"C:\\Program Files\\Openquake Engine\\python3.6\\Scripts\\jupyter.exe\" notebook`\n",
    "\n",
    "atau\n",
    "\n",
    "`\"C:\\Program Files\\Openquake Engine\\python3.6\\Scripts\\jupyter-notebook.exe\"`"
   ]
  },
  {
   "cell_type": "markdown",
   "id": "41fb843b",
   "metadata": {},
   "source": [
    "## 1. Import packages"
   ]
  },
  {
   "cell_type": "markdown",
   "id": "6f3ae3f3",
   "metadata": {},
   "source": [
    "Hal ini memastikan apakah python yang digunakan sudah menyediakan packages yang dibutuhkan."
   ]
  },
  {
   "cell_type": "code",
   "execution_count": 21,
   "id": "59458d28",
   "metadata": {
    "vscode": {
     "languageId": "python"
    }
   },
   "outputs": [],
   "source": [
    "from custom_openquake import *"
   ]
  },
  {
   "cell_type": "markdown",
   "id": "f11f5630",
   "metadata": {},
   "source": [
    "## 2. Patahan"
   ]
  },
  {
   "cell_type": "code",
   "execution_count": 54,
   "id": "a28a3ad2",
   "metadata": {},
   "outputs": [],
   "source": [
    "import geojson\n",
    "import xml.etree.ElementTree as ET\n",
    "from openquake.hazardlib.mfd.evenly_discretized import EvenlyDiscretizedMFD\n",
    "\n",
    "geojsonname = './json_output/json_fault_KumeringNorth_others.geojson'\n",
    "xmlname = './oqfiles/single_ruptures/ssm_1/b_0/single_sec_rup.xml'\n",
    "\n",
    "with open(geojsonname) as f:\n",
    "    data = geojson.load(f)\n",
    "    \n",
    "tree = ET.parse(xmlname)\n",
    "root = tree.getroot()\n",
    "    \n",
    "mtk_simple_faults = []\n",
    "for i, ft in enumerate(data['features']):\n",
    "    geom = ft['geometry']['coordinates']\n",
    "    prop = ft['properties']\n",
    "    line = LineOQ([PointOQ(x, y) for x, y, _ in geom])\n",
    "    mtk_simple_faults.append(mtkSimpleFaultSource(\n",
    "        identifier=f\"{prop['si']}\", \n",
    "        name=f\"{prop['name']}\",\n",
    "        trt=\"Active Shallow Crust\",\n",
    "        mag_scale_rel=\"WC1994\", \n",
    "        rupt_aspect_ratio=1.0, \n",
    "        mfd= EvenlyDiscretizedMFD(\n",
    "            float(root[0][0][i][3].attrib['minMag']), \n",
    "            float(root[0][0][i][3].attrib['binWidth']), \n",
    "            [float(num) for num in root[0][0][i][3][0].text.split()]\n",
    "        ),\n",
    "        rake=prop['rake'],\n",
    "    ))\n",
    "    mtk_simple_faults[i].create_geometry(\n",
    "        line,\n",
    "        dip = prop['dip'], \n",
    "        upper_depth = prop['up_s_d'], \n",
    "        lower_depth = prop['lo_s_d'],\n",
    "        mesh_spacing=1.0\n",
    "    )\n",
    "    \n",
    "model_simple_faults = mtkSourceModel(\n",
    "    identifier=\"1001\", \n",
    "    name=\"Merge Faults 1\", \n",
    "    sources=mtk_simple_faults\n",
    ")\n",
    "model_simple_faults.serialise_to_nrml('./xmlfiles/merge_faults_1.xml', use_defaults=False)"
   ]
  },
  {
   "cell_type": "markdown",
   "id": "778adaeb",
   "metadata": {},
   "source": [
    "## \\#\\#\\# Opsional \\#\\#\\#"
   ]
  },
  {
   "cell_type": "code",
   "execution_count": 38,
   "id": "b86870ca",
   "metadata": {},
   "outputs": [
    {
     "data": {
      "text/plain": [
       "['/Users/yudhastyawan/Downloads/single_ruptures/ssm_2/b_0/single_sec_rup_2.xml']"
      ]
     },
     "execution_count": 38,
     "metadata": {},
     "output_type": "execute_result"
    }
   ],
   "source": [
    "import xml.etree.ElementTree as ET\n",
    "from openquake.hazardlib.sourcewriter import write_source_model\n",
    "from openquake.hazardlib.mfd.evenly_discretized import EvenlyDiscretizedMFD\n",
    "\n",
    "geod = pyproj.Geod(ellps=\"WGS84\")\n",
    "\n",
    "xmlname = '/Users/yudhastyawan/Downloads/single_ruptures/ssm_2/b_0/single_sec_rup.xml'\n",
    "\n",
    "tree = ET.parse(xmlname)\n",
    "root = tree.getroot()\n",
    "\n",
    "mtk_simple_faults = []\n",
    "for i, rt in enumerate(root[0][0]):\n",
    "#     print(float(rt[0][0][0][0].text.split()[2]))\n",
    "#     print(float(rt[0][0][0][0].text.split()[5]))\n",
    "    _,_,dist = geod.inv(float(rt[0][0][0][0].text.split()[0]),\n",
    "                     float(rt[0][0][0][0].text.split()[1]),\n",
    "                     float(rt[0][0][0][0].text.split()[3]),\n",
    "                     float(rt[0][0][0][0].text.split()[4]))\n",
    "    dip = np.round(np.rad2deg(np.arctan2(float(rt[0][0][0][0].text.split()[5]), dist/1000)))\n",
    "    geom = [map(float,irt[0][0].text.split()[0:2]) for irt in rt[0]]\n",
    "    line = LineOQ([PointOQ(x, y) for x, y in geom])\n",
    "    mtk_simple_faults.append(mtkSimpleFaultSource(\n",
    "        identifier=rt.attrib['id'], \n",
    "        name=rt.attrib['name'],\n",
    "        trt=\"Active Shallow Crust\",\n",
    "        mag_scale_rel=\"WC1994\", \n",
    "        rupt_aspect_ratio=1.0, \n",
    "        mfd= EvenlyDiscretizedMFD(\n",
    "            float(rt[3].attrib['minMag']), \n",
    "            float(rt[3].attrib['binWidth']), \n",
    "            [float(num) for num in root[0][0][i][3][0].text.split()]\n",
    "        ),\n",
    "        rake=float(rt[4].text),\n",
    "    ))\n",
    "    mtk_simple_faults[i].create_geometry(\n",
    "        line,\n",
    "        dip = dip, \n",
    "        upper_depth = float(rt[0][0][0][0].text.split()[2]), \n",
    "        lower_depth = float(rt[0][0][0][0].text.split()[5]),\n",
    "        mesh_spacing=1.0\n",
    "    )\n",
    "    \n",
    "model_simple_faults = mtkSourceModel(\n",
    "    identifier=\"1001\", \n",
    "    name=\"Merge Faults 1\", \n",
    "    sources=mtk_simple_faults\n",
    ")\n",
    "\n",
    "source_model = model_simple_faults.convert_to_oqhazardlib(\n",
    "    PoissonTOM(1.0), 1.0, 2.0, 10.0,\n",
    "    use_defaults=False)\n",
    "write_source_model('/Users/yudhastyawan/Downloads/single_ruptures/ssm_2/b_0/single_sec_rup_2.xml', \n",
    "                   source_model, \n",
    "                   name=model_simple_faults.name)\n",
    "# model_simple_faults.serialise_to_nrml('/Users/yudhastyawan/Downloads/single_ruptures/ssm_2/b_0/single_sec_rup_2.xml', use_defaults=False)"
   ]
  },
  {
   "cell_type": "code",
   "execution_count": null,
   "id": "35a9a275",
   "metadata": {},
   "outputs": [],
   "source": []
  }
 ],
 "metadata": {
  "kernelspec": {
   "display_name": "Python 3 (ipykernel)",
   "language": "python",
   "name": "python3"
  },
  "language_info": {
   "codemirror_mode": {
    "name": "ipython",
    "version": 3
   },
   "file_extension": ".py",
   "mimetype": "text/x-python",
   "name": "python",
   "nbconvert_exporter": "python",
   "pygments_lexer": "ipython3",
   "version": "3.9.10"
  }
 },
 "nbformat": 4,
 "nbformat_minor": 5
}
