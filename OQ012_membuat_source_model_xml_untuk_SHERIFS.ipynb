{
 "cells": [
  {
   "cell_type": "markdown",
   "id": "7fe4f2ac",
   "metadata": {},
   "source": [
    "# Membuat source model xml untuk OpenQuake"
   ]
  },
  {
   "cell_type": "markdown",
   "id": "3d34b34a",
   "metadata": {},
   "source": [
    "Jalankan file ini di Openquake yang sudah diinstal di komputer masing-masing.\n",
    "\n",
    "atau:\n",
    "\n",
    "Jalankan file ini di jupyter dengan cara mengubah kernel ke `openquake`. Jika kernel `openquake` belum ada, lakukan langkah-langkah berikut ini:\n",
    "\n",
    "Openquake dapat diunduh di sini:\n",
    "https://downloads.openquake.org/pkgs/windows/oq-engine/OpenQuake_Engine_3.11.5-1.exe\n",
    "\n",
    "Install beberapa tambahan packages di openquake:\n",
    "\n",
    "(Asumsi lokasi instalasi openquake di sini: `C:\\Program Files\\Openquake Engine\\python3.6\\`, \n",
    "jika tidak maka ubah lokasi tersebut sesuai dengan komputer masing-masing)\n",
    "\n",
    "1. Buka Command Prompt\n",
    "2. Install `jupyter`: `\"C:\\Program Files\\Openquake Engine\\python3.6\\python.exe\" -m pip install jupyter`\n",
    "3. Daftarkan ke dalam kernel (opsional): `\"C:\\Program Files\\Openquake Engine\\python3.6\\python.exe\" -m ipykernel install --name \"openquake\" --display-name \"openquake\"`\n",
    "\n",
    "\n",
    "Untuk uji coba, jalankan salah satu baris di bawah ini:\n",
    "\n",
    "`\"C:\\Program Files\\Openquake Engine\\python3.6\\Scripts\\jupyter.exe\" notebook`\n",
    "\n",
    "atau\n",
    "\n",
    "`\"C:\\Program Files\\Openquake Engine\\python3.6\\Scripts\\jupyter-notebook.exe\"`"
   ]
  },
  {
   "cell_type": "markdown",
   "id": "41fb843b",
   "metadata": {},
   "source": [
    "## 1. Import packages"
   ]
  },
  {
   "cell_type": "markdown",
   "id": "6f3ae3f3",
   "metadata": {},
   "source": [
    "Hal ini memastikan apakah python yang digunakan sudah menyediakan packages yang dibutuhkan."
   ]
  },
  {
   "cell_type": "code",
   "execution_count": 2,
   "id": "59458d28",
   "metadata": {
    "vscode": {
     "languageId": "python"
    }
   },
   "outputs": [],
   "source": [
    "from custom_openquake import *"
   ]
  },
  {
   "cell_type": "markdown",
   "id": "f11f5630",
   "metadata": {},
   "source": [
    "## 2. Patahan"
   ]
  },
  {
   "cell_type": "code",
   "execution_count": 54,
   "id": "a28a3ad2",
   "metadata": {},
   "outputs": [],
   "source": [
    "import geojson\n",
    "import xml.etree.ElementTree as ET\n",
    "from openquake.hazardlib.mfd.evenly_discretized import EvenlyDiscretizedMFD\n",
    "\n",
    "geojsonname = './json_output/json_fault_KumeringNorth_others.geojson'\n",
    "xmlname = './oqfiles/single_ruptures/ssm_1/b_0/single_sec_rup.xml'\n",
    "\n",
    "with open(geojsonname) as f:\n",
    "    data = geojson.load(f)\n",
    "    \n",
    "tree = ET.parse(xmlname)\n",
    "root = tree.getroot()\n",
    "    \n",
    "mtk_simple_faults = []\n",
    "for i, ft in enumerate(data['features']):\n",
    "    geom = ft['geometry']['coordinates']\n",
    "    prop = ft['properties']\n",
    "    line = LineOQ([PointOQ(x, y) for x, y, _ in geom])\n",
    "    mtk_simple_faults.append(mtkSimpleFaultSource(\n",
    "        identifier=f\"{prop['si']}\", \n",
    "        name=f\"{prop['name']}\",\n",
    "        trt=\"Active Shallow Crust\",\n",
    "        mag_scale_rel=\"WC1994\", \n",
    "        rupt_aspect_ratio=1.0, \n",
    "        mfd= EvenlyDiscretizedMFD(\n",
    "            float(root[0][0][i][3].attrib['minMag']), \n",
    "            float(root[0][0][i][3].attrib['binWidth']), \n",
    "            [float(num) for num in root[0][0][i][3][0].text.split()]\n",
    "        ),\n",
    "        rake=prop['rake'],\n",
    "    ))\n",
    "    mtk_simple_faults[i].create_geometry(\n",
    "        line,\n",
    "        dip = prop['dip'], \n",
    "        upper_depth = prop['up_s_d'], \n",
    "        lower_depth = prop['lo_s_d'],\n",
    "        mesh_spacing=1.0\n",
    "    )\n",
    "    \n",
    "model_simple_faults = mtkSourceModel(\n",
    "    identifier=\"1001\", \n",
    "    name=\"Merge Faults 1\", \n",
    "    sources=mtk_simple_faults\n",
    ")\n",
    "model_simple_faults.serialise_to_nrml('./xmlfiles/merge_faults_1.xml', use_defaults=False)"
   ]
  },
  {
   "cell_type": "code",
   "execution_count": null,
   "id": "6206bb32",
   "metadata": {},
   "outputs": [],
   "source": []
  }
 ],
 "metadata": {
  "kernelspec": {
   "display_name": "Python 3 (ipykernel)",
   "language": "python",
   "name": "python3"
  },
  "language_info": {
   "codemirror_mode": {
    "name": "ipython",
    "version": 3
   },
   "file_extension": ".py",
   "mimetype": "text/x-python",
   "name": "python",
   "nbconvert_exporter": "python",
   "pygments_lexer": "ipython3",
   "version": "3.9.10"
  }
 },
 "nbformat": 4,
 "nbformat_minor": 5
}
