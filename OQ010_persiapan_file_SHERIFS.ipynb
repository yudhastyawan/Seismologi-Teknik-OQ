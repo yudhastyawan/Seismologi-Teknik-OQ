{
 "cells": [
  {
   "cell_type": "markdown",
   "id": "4b08976c",
   "metadata": {},
   "source": [
    "# Persiapan File SHERIFS untuk area patahan"
   ]
  },
  {
   "cell_type": "markdown",
   "id": "a34a27a1",
   "metadata": {},
   "source": [
    "Jalankan file ini di jupyter dengan cara mengubah kernel ke `maps`. Jika kernel `maps` belum ada, lakukan langkah-langkah berikut ini:\n",
    "\n",
    "1. Buka Anaconda Prompt\n",
    "2. Buat environment baru: `conda create -n maps python=3.9`\n",
    "3. Aktifkan environment `maps`: `conda activate maps`\n",
    "4. Install `geopandas`: `pip install geopandas`\n",
    "5. Install `matplotlib`: `pip install matplotlib`\n",
    "6. Install `ipykernel`: `pip install ipykernel`\n",
    "7. Daftarkan ke dalam kernel: `python -m ipykernel install --name \"maps\" --display-name \"maps\"`\n",
    "\n",
    "Data yang disimpan dalam format shp dapat digunakan di QGIS"
   ]
  },
  {
   "cell_type": "markdown",
   "id": "2c244c26",
   "metadata": {},
   "source": [
    "## Informasi mengenai rake\n",
    "\n",
    "Rake merupakan sudut yang terbentuk antara arah slip dan strike, besarnya sudut berlawanan dengan arah jarum jam.\n",
    "\n",
    "1. Sesar geser arah kanan = 180\n",
    "2. Sesar geser arah kiri = 0\n",
    "3. Sesar turun = -90\n",
    "4. Sesar naik = 90"
   ]
  },
  {
   "cell_type": "markdown",
   "id": "14ac00b8",
   "metadata": {},
   "source": [
    "## 1. Import packages"
   ]
  },
  {
   "cell_type": "code",
   "execution_count": 2,
   "id": "87b561eb",
   "metadata": {},
   "outputs": [],
   "source": [
    "from custom_maps import *"
   ]
  },
  {
   "cell_type": "markdown",
   "id": "53c9a83f",
   "metadata": {},
   "source": [
    "## 2. cek strike sesar"
   ]
  },
  {
   "cell_type": "code",
   "execution_count": 2,
   "id": "01a3d323",
   "metadata": {},
   "outputs": [
    {
     "data": {
      "text/plain": [
       "0      KumeringNorth\n",
       "1      KumeringSouth\n",
       "2    Semangkobarat-A\n",
       "3    SemangkoTimur-A\n",
       "4    Semangkobarat-B\n",
       "5    SemangkoTimur-B\n",
       "6     SemangkoGraben\n",
       "7            Enggano\n",
       "Name: Segment__1, dtype: object"
      ]
     },
     "execution_count": 2,
     "metadata": {},
     "output_type": "execute_result"
    }
   ],
   "source": [
    "# membuka data shp patahan\n",
    "gdf_faults = gpd.read_file('./shp/faults.shp')\n",
    "\n",
    "# cek indeks masing-masing patahan\n",
    "gdf_faults['Segment__1']"
   ]
  },
  {
   "cell_type": "code",
   "execution_count": 6,
   "id": "017121b3",
   "metadata": {},
   "outputs": [],
   "source": [
    "# menyusun ulang koordinat patahan agar searah dengan strike\n",
    "# gdf_faults.geometry[0] = reverse_geom(gdf_faults.geometry[0])\n",
    "# gdf_faults.geometry[1] = reverse_geom(gdf_faults.geometry[1])\n",
    "# gdf_faults.geometry[7] = reverse_geom(gdf_faults.geometry[7])\n",
    "gdf_faults.geometry[6] = reverse_geom(gdf_faults.geometry[6])"
   ]
  },
  {
   "cell_type": "code",
   "execution_count": 11,
   "id": "ec2402e3",
   "metadata": {},
   "outputs": [
    {
     "data": {
      "image/png": "[encoded data removed]",
      "text/plain": [
       "<Figure size 640x480 with 1 Axes>"
      ]
     },
     "metadata": {},
     "output_type": "display_data"
    }
   ],
   "source": [
    "# mengecek arah strike\n",
    "fig, ax = plt.subplots()\n",
    "for geom in gdf_faults.geometry[[0,7]]:\n",
    "    plot_line(geom, ax)"
   ]
  },
  {
   "cell_type": "markdown",
   "id": "7c858723",
   "metadata": {},
   "source": [
    "## 3. sections.geojson"
   ]
  },
  {
   "cell_type": "code",
   "execution_count": 5,
   "id": "2e2d61ba",
   "metadata": {},
   "outputs": [],
   "source": [
    "# membuka dict patahan (berisi informasi merged dan individual)\n",
    "dict_faults = open_pkl('dict_faults.pkl')"
   ]
  },
  {
   "cell_type": "code",
   "execution_count": 6,
   "id": "9baece4f",
   "metadata": {},
   "outputs": [
    {
     "data": {
      "text/html": [
       "<div>\n",
       "<style scoped>\n",
       "    .dataframe tbody tr th:only-of-type {\n",
       "        vertical-align: middle;\n",
       "    }\n",
       "\n",
       "    .dataframe tbody tr th {\n",
       "        vertical-align: top;\n",
       "    }\n",
       "\n",
       "    .dataframe thead th {\n",
       "        text-align: right;\n",
       "    }\n",
       "</style>\n",
       "<table border=\"1\" class=\"dataframe\">\n",
       "  <thead>\n",
       "    <tr style=\"text-align: right;\">\n",
       "      <th></th>\n",
       "      <th>si</th>\n",
       "      <th>name</th>\n",
       "      <th>model</th>\n",
       "      <th>sr_min</th>\n",
       "      <th>sr_mean</th>\n",
       "      <th>sr_max</th>\n",
       "      <th>dip</th>\n",
       "      <th>oriented</th>\n",
       "      <th>rake</th>\n",
       "      <th>up_s_d</th>\n",
       "      <th>lo_s_d</th>\n",
       "      <th>Domain</th>\n",
       "      <th>shear_modulus</th>\n",
       "      <th>geometry</th>\n",
       "    </tr>\n",
       "  </thead>\n",
       "  <tbody>\n",
       "    <tr>\n",
       "      <th>0</th>\n",
       "      <td>0</td>\n",
       "      <td>KumeringNorth</td>\n",
       "      <td>Lampung</td>\n",
       "      <td>14</td>\n",
       "      <td>14</td>\n",
       "      <td>14</td>\n",
       "      <td>90</td>\n",
       "      <td>SW</td>\n",
       "      <td>180</td>\n",
       "      <td>0</td>\n",
       "      <td>20</td>\n",
       "      <td>Active Shallow Crust</td>\n",
       "      <td>30</td>\n",
       "      <td>LINESTRING Z (103.24981 -4.33236 0.00000, 103....</td>\n",
       "    </tr>\n",
       "    <tr>\n",
       "      <th>1</th>\n",
       "      <td>1</td>\n",
       "      <td>KumeringSouth</td>\n",
       "      <td>Lampung</td>\n",
       "      <td>14</td>\n",
       "      <td>14</td>\n",
       "      <td>14</td>\n",
       "      <td>90</td>\n",
       "      <td>SW</td>\n",
       "      <td>180</td>\n",
       "      <td>0</td>\n",
       "      <td>20</td>\n",
       "      <td>Active Shallow Crust</td>\n",
       "      <td>30</td>\n",
       "      <td>LINESTRING Z (104.00669 -4.92233 0.00000, 104....</td>\n",
       "    </tr>\n",
       "    <tr>\n",
       "      <th>2</th>\n",
       "      <td>2</td>\n",
       "      <td>Semangkobarat-A</td>\n",
       "      <td>Lampung</td>\n",
       "      <td>8</td>\n",
       "      <td>8</td>\n",
       "      <td>8</td>\n",
       "      <td>90</td>\n",
       "      <td>SW</td>\n",
       "      <td>180</td>\n",
       "      <td>0</td>\n",
       "      <td>20</td>\n",
       "      <td>Active Shallow Crust</td>\n",
       "      <td>30</td>\n",
       "      <td>LINESTRING Z (104.27982 -5.16915 0.00000, 104....</td>\n",
       "    </tr>\n",
       "    <tr>\n",
       "      <th>3</th>\n",
       "      <td>3</td>\n",
       "      <td>SemangkoTimur-A</td>\n",
       "      <td>Lampung</td>\n",
       "      <td>7</td>\n",
       "      <td>7</td>\n",
       "      <td>7</td>\n",
       "      <td>90</td>\n",
       "      <td>SW</td>\n",
       "      <td>180</td>\n",
       "      <td>0</td>\n",
       "      <td>20</td>\n",
       "      <td>Active Shallow Crust</td>\n",
       "      <td>30</td>\n",
       "      <td>LINESTRING Z (104.35652 -5.27485 0.00000, 104....</td>\n",
       "    </tr>\n",
       "    <tr>\n",
       "      <th>4</th>\n",
       "      <td>4</td>\n",
       "      <td>Semangkobarat-B</td>\n",
       "      <td>Lampung</td>\n",
       "      <td>8</td>\n",
       "      <td>8</td>\n",
       "      <td>8</td>\n",
       "      <td>90</td>\n",
       "      <td>SW</td>\n",
       "      <td>180</td>\n",
       "      <td>0</td>\n",
       "      <td>20</td>\n",
       "      <td>Active Shallow Crust</td>\n",
       "      <td>30</td>\n",
       "      <td>LINESTRING Z (104.25787 -5.20948 0.00000, 104....</td>\n",
       "    </tr>\n",
       "    <tr>\n",
       "      <th>5</th>\n",
       "      <td>5</td>\n",
       "      <td>SemangkoTimur-B</td>\n",
       "      <td>Lampung</td>\n",
       "      <td>3</td>\n",
       "      <td>3</td>\n",
       "      <td>3</td>\n",
       "      <td>90</td>\n",
       "      <td>SW</td>\n",
       "      <td>180</td>\n",
       "      <td>0</td>\n",
       "      <td>20</td>\n",
       "      <td>Active Shallow Crust</td>\n",
       "      <td>30</td>\n",
       "      <td>LINESTRING Z (104.66574 -5.75236 0.00000, 104....</td>\n",
       "    </tr>\n",
       "    <tr>\n",
       "      <th>6</th>\n",
       "      <td>6</td>\n",
       "      <td>SemangkoGraben</td>\n",
       "      <td>Lampung</td>\n",
       "      <td>3</td>\n",
       "      <td>3</td>\n",
       "      <td>3</td>\n",
       "      <td>60</td>\n",
       "      <td>W</td>\n",
       "      <td>-90</td>\n",
       "      <td>0</td>\n",
       "      <td>20</td>\n",
       "      <td>Active Shallow Crust</td>\n",
       "      <td>30</td>\n",
       "      <td>LINESTRING Z (105.17460 -5.91349 0.00000, 105....</td>\n",
       "    </tr>\n",
       "    <tr>\n",
       "      <th>7</th>\n",
       "      <td>7</td>\n",
       "      <td>Enggano</td>\n",
       "      <td>Lampung</td>\n",
       "      <td>5</td>\n",
       "      <td>5</td>\n",
       "      <td>5</td>\n",
       "      <td>45</td>\n",
       "      <td>W</td>\n",
       "      <td>90</td>\n",
       "      <td>0</td>\n",
       "      <td>20</td>\n",
       "      <td>Active Shallow Crust</td>\n",
       "      <td>30</td>\n",
       "      <td>LINESTRING Z (102.12332 -4.90860 0.00000, 102....</td>\n",
       "    </tr>\n",
       "  </tbody>\n",
       "</table>\n",
       "</div>"
      ],
      "text/plain": [
       "   si             name    model  sr_min  sr_mean  sr_max  dip oriented  rake  \\\n",
       "0   0    KumeringNorth  Lampung      14       14      14   90       SW   180   \n",
       "1   1    KumeringSouth  Lampung      14       14      14   90       SW   180   \n",
       "2   2  Semangkobarat-A  Lampung       8        8       8   90       SW   180   \n",
       "3   3  SemangkoTimur-A  Lampung       7        7       7   90       SW   180   \n",
       "4   4  Semangkobarat-B  Lampung       8        8       8   90       SW   180   \n",
       "5   5  SemangkoTimur-B  Lampung       3        3       3   90       SW   180   \n",
       "6   6   SemangkoGraben  Lampung       3        3       3   60        W   -90   \n",
       "7   7          Enggano  Lampung       5        5       5   45        W    90   \n",
       "\n",
       "   up_s_d  lo_s_d                Domain  shear_modulus  \\\n",
       "0       0      20  Active Shallow Crust             30   \n",
       "1       0      20  Active Shallow Crust             30   \n",
       "2       0      20  Active Shallow Crust             30   \n",
       "3       0      20  Active Shallow Crust             30   \n",
       "4       0      20  Active Shallow Crust             30   \n",
       "5       0      20  Active Shallow Crust             30   \n",
       "6       0      20  Active Shallow Crust             30   \n",
       "7       0      20  Active Shallow Crust             30   \n",
       "\n",
       "                                            geometry  \n",
       "0  LINESTRING Z (103.24981 -4.33236 0.00000, 103....  \n",
       "1  LINESTRING Z (104.00669 -4.92233 0.00000, 104....  \n",
       "2  LINESTRING Z (104.27982 -5.16915 0.00000, 104....  \n",
       "3  LINESTRING Z (104.35652 -5.27485 0.00000, 104....  \n",
       "4  LINESTRING Z (104.25787 -5.20948 0.00000, 104....  \n",
       "5  LINESTRING Z (104.66574 -5.75236 0.00000, 104....  \n",
       "6  LINESTRING Z (105.17460 -5.91349 0.00000, 105....  \n",
       "7  LINESTRING Z (102.12332 -4.90860 0.00000, 102....  "
      ]
     },
     "execution_count": 6,
     "metadata": {},
     "output_type": "execute_result"
    }
   ],
   "source": [
    "# menyatukan informasi geologi dengan geometri patahan (arah STRIKE sudah harus sesuai)\n",
    "df = pd.read_csv('geologi-patahan.csv')\n",
    "gdf_geology_faults = gpd.GeoDataFrame(df, geometry=gdf_faults.geometry)\n",
    "gdf_geology_faults"
   ]
  },
  {
   "cell_type": "code",
   "execution_count": 7,
   "id": "0f29a48c",
   "metadata": {},
   "outputs": [],
   "source": [
    "# menyimpan ke dalam bentuk geojson\n",
    "save_faults_geojson(gdf_geology_faults, dict_faults)"
   ]
  },
  {
   "cell_type": "code",
   "execution_count": 8,
   "id": "8900e482",
   "metadata": {},
   "outputs": [
    {
     "data": {
      "text/plain": [
       "['./json_output/json_fault_Enggano.geojson',\n",
       " './json_output/json_fault_KumeringNorth_others.geojson',\n",
       " './json_output/json_area_fault_KumeringNorth_others.geojson']"
      ]
     },
     "execution_count": 8,
     "metadata": {},
     "output_type": "execute_result"
    }
   ],
   "source": [
    "# mengecek file yang sudah dibuat\n",
    "glob.glob('./json_output/*')"
   ]
  },
  {
   "cell_type": "code",
   "execution_count": 9,
   "id": "22e1bf7b",
   "metadata": {},
   "outputs": [
    {
     "data": {
      "text/plain": [
       "'./SHERIFS/Example/data/sections.geojson'"
      ]
     },
     "execution_count": 9,
     "metadata": {},
     "output_type": "execute_result"
    }
   ],
   "source": [
    "# menyalin patahan geojson ke Example SHERIFS dengan nama sections.geojson\n",
    "shutil.copyfile('./json_output/json_fault_KumeringNorth_others.geojson',\n",
    "               './SHERIFS/Example/data/sections.geojson')"
   ]
  },
  {
   "cell_type": "markdown",
   "id": "0ea1a180",
   "metadata": {},
   "source": [
    "## 3. bg.geojson"
   ]
  },
  {
   "cell_type": "code",
   "execution_count": 10,
   "id": "effed8a1",
   "metadata": {},
   "outputs": [
    {
     "data": {
      "text/html": [
       "<div>\n",
       "<style scoped>\n",
       "    .dataframe tbody tr th:only-of-type {\n",
       "        vertical-align: middle;\n",
       "    }\n",
       "\n",
       "    .dataframe tbody tr th {\n",
       "        vertical-align: top;\n",
       "    }\n",
       "\n",
       "    .dataframe thead th {\n",
       "        text-align: right;\n",
       "    }\n",
       "</style>\n",
       "<table border=\"1\" class=\"dataframe\">\n",
       "  <thead>\n",
       "    <tr style=\"text-align: right;\">\n",
       "      <th></th>\n",
       "      <th>FID</th>\n",
       "      <th>geometry</th>\n",
       "    </tr>\n",
       "  </thead>\n",
       "  <tbody>\n",
       "    <tr>\n",
       "      <th>0</th>\n",
       "      <td>0</td>\n",
       "      <td>POLYGON ((105.36665 -5.88212, 105.37595 -5.898...</td>\n",
       "    </tr>\n",
       "  </tbody>\n",
       "</table>\n",
       "</div>"
      ],
      "text/plain": [
       "   FID                                           geometry\n",
       "0    0  POLYGON ((105.36665 -5.88212, 105.37595 -5.898..."
      ]
     },
     "execution_count": 10,
     "metadata": {},
     "output_type": "execute_result"
    }
   ],
   "source": [
    "# membuka area patahan\n",
    "gdf_area_faults = gpd.read_file('./shp_output/area_fault_KumeringNorth_others/area_fault_KumeringNorth_others.shp')\n",
    "gdf_area_faults"
   ]
  },
  {
   "cell_type": "code",
   "execution_count": 11,
   "id": "8af64868",
   "metadata": {},
   "outputs": [],
   "source": [
    "# menyimpan area patahan ke dalam bentuk geojson\n",
    "save_area_fault_geojson(gdf_area_faults, 'json_area_fault_KumeringNorth_others.geojson', model=\"Lampung\")"
   ]
  },
  {
   "cell_type": "code",
   "execution_count": 12,
   "id": "3edc3389",
   "metadata": {},
   "outputs": [
    {
     "data": {
      "text/plain": [
       "['./json_output/json_fault_Enggano.geojson',\n",
       " './json_output/json_fault_KumeringNorth_others.geojson',\n",
       " './json_output/json_area_fault_KumeringNorth_others.geojson']"
      ]
     },
     "execution_count": 12,
     "metadata": {},
     "output_type": "execute_result"
    }
   ],
   "source": [
    "# mengecek file yang sudah dibuat\n",
    "glob.glob('./json_output/*')"
   ]
  },
  {
   "cell_type": "code",
   "execution_count": 13,
   "id": "5a36be42",
   "metadata": {},
   "outputs": [
    {
     "data": {
      "text/plain": [
       "'./SHERIFS/Example/data/bg.geojson'"
      ]
     },
     "execution_count": 13,
     "metadata": {},
     "output_type": "execute_result"
    }
   ],
   "source": [
    "# menyalin area patahan geojson ke Example SHERIFS dengan nama bg.geojson\n",
    "shutil.copyfile('./json_output/json_area_fault_KumeringNorth_others.geojson',\n",
    "               './SHERIFS/Example/data/bg.geojson')"
   ]
  },
  {
   "cell_type": "markdown",
   "id": "4431715d",
   "metadata": {},
   "source": [
    "## Catatan:\n",
    "\n",
    "Di SHERIFS, terdapat struktur seperti ini:\n",
    "\n",
    "```\n",
    "Example/\n",
    "├── data/\n",
    "│   ├── Background_properties.txt\n",
    "│   ├── bg.geojson\n",
    "│   └── sections.geojson\n",
    "├── input/\n",
    "│   ├── LT.toml\n",
    "│   ├── bg_seismicity.txt\n",
    "│   ├── ruptures.txt\n",
    "│   └── sherifs_in.toml\n",
    "└── output/\n",
    "...\n",
    "```\n",
    "\n",
    "Adapun `bg.geojson` dan `sections.geojson` sudah dibuat di OQ010. Namun, file-file lainnya harus dibuat manual. Agar memudahkan pengerjaan, file yang sudah ada di Example dapat di ubah.\n",
    "\n",
    "### Background_properties.txt\n",
    "```\n",
    "Lampung\tupperSeismoDepth\t0.\n",
    "Lampung\tlowerSeismoDepth\t20.\n",
    "Lampung\truptAspectRatio\t1.\n",
    "Lampung\tnodalPlane\t0.5\t135.\t90.\t180.\n",
    "Lampung\tnodalPlane\t0.5\t315.\t90.\t180.\n",
    "Lampung\thypoDepth\t0.2\t5.\n",
    "Lampung\thypoDepth\t0.3\t10.\n",
    "Lampung\thypoDepth\t0.2\t15.\n",
    "Lampung\thypoDepth\t0.3\t20.\n",
    "```\n",
    "\n",
    "model `Lampung` diganti dengan model penelitian masing-masing. Adapun `nodalPlane` berisi nilai \"probability, strike, dip, rake\". `hypoDepth` berisi nilai \"probability, depth\".\n",
    "\n",
    "### sherifs_in.toml\n",
    "Contoh dapat dilihat di folder SHERIFS/Example/input.\n",
    "\n",
    "Yang perlu diganti adalah:\n",
    "```\n",
    "dirpath = \"lokasi/folder/SHERIFS/Example\"\n",
    "\n",
    "[pre]\n",
    "...\n",
    "Model_name = \"Nama Model\"\n",
    "...\n",
    "\n",
    "```\n",
    "\n",
    "\n",
    "### ruptures.txt\n",
    "atur skenario multiple ruptures\n",
    "```\n",
    "set set_1\n",
    "0 1\n",
    "```\n",
    "\n",
    "### bg_seismicity.txt\n",
    "perbandingan seismisitas PADA SESAR. Dimulai dari magnitudo 4, 4.5, dst..\n",
    "```\n",
    "bg BG_1\n",
    "0.5 0.5 0.6 0.7 0.8 0.9 1.0 1.0 1.0\n",
    "```\n",
    "\n",
    "### LT.toml\n",
    "hasil b value dapat dimasukkan di sini. Model diganti dengan nama model penelitian masing-masing.\n",
    "```\n",
    "Models = [\"Lampung\"]\n",
    "\n",
    "MFD_shape = [[\"GR\", \"1.0\"]]\n",
    "\n",
    "Background = [\"BG_1\"]\n",
    "\n",
    "scenario_set = [\"set_1\"]\n",
    "\n",
    "Scaling_Laws = [[\"WC1994\", \"Area\", \"m\"]]\n",
    "```"
   ]
  },
  {
   "cell_type": "code",
   "execution_count": null,
   "id": "1de006f5",
   "metadata": {},
   "outputs": [],
   "source": []
  }
 ],
 "metadata": {
  "kernelspec": {
   "display_name": "maps",
   "language": "python",
   "name": "maps"
  },
  "language_info": {
   "codemirror_mode": {
    "name": "ipython",
    "version": 3
   },
   "file_extension": ".py",
   "mimetype": "text/x-python",
   "name": "python",
   "nbconvert_exporter": "python",
   "pygments_lexer": "ipython3",
   "version": "3.9.16"
  }
 },
 "nbformat": 4,
 "nbformat_minor": 5
}
