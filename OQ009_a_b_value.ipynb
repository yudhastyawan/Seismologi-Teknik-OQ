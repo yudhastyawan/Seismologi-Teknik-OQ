{
 "cells": [
  {
   "cell_type": "markdown",
   "id": "7fe4f2ac",
   "metadata": {},
   "source": [
    "# Mengestimasi nilai a dan b value pada data katalog"
   ]
  },
  {
   "cell_type": "markdown",
   "id": "3d34b34a",
   "metadata": {},
   "source": [
    "Jalankan file ini di Openquake yang sudah diinstal di komputer masing-masing.\n",
    "\n",
    "atau:\n",
    "\n",
    "Jalankan file ini di jupyter dengan cara mengubah kernel ke `openquake`. Jika kernel `openquake` belum ada, lakukan langkah-langkah berikut ini:\n",
    "\n",
    "Openquake dapat diunduh di sini:\n",
    "https://downloads.openquake.org/pkgs/windows/oq-engine/OpenQuake_Engine_3.11.5-1.exe\n",
    "\n",
    "Install beberapa tambahan packages di openquake:\n",
    "\n",
    "(Asumsi lokasi instalasi openquake di sini: `C:\\Program Files\\Openquake Engine\\python3.6\\`, \n",
    "jika tidak maka ubah lokasi tersebut sesuai dengan komputer masing-masing)\n",
    "\n",
    "1. Buka Command Prompt\n",
    "2. Install `utm`: `\"C:\\Program Files\\Openquake Engine\\python3.6\\python.exe\" -m pip install utm`\n",
    "3. Install `jupyter`: `\"C:\\Program Files\\Openquake Engine\\python3.6\\python.exe\" -m pip install jupyter`\n",
    "4. Daftarkan ke dalam kernel (opsional): `python -m ipykernel install --name \"openquake\" --display-name \"openquake\"`\n",
    "\n",
    "\n",
    "Untuk uji coba, jalankan salah satu baris di bawah ini:\n",
    "\n",
    "`\"C:\\Program Files\\Openquake Engine\\python3.6\\Scripts\\jupyter.exe\" notebook`\n",
    "\n",
    "atau\n",
    "\n",
    "`\"C:\\Program Files\\Openquake Engine\\python3.6\\Scripts\\jupyter-notebook.exe\"`"
   ]
  },
  {
   "cell_type": "markdown",
   "id": "41fb843b",
   "metadata": {},
   "source": [
    "## 1. Import packages"
   ]
  },
  {
   "cell_type": "markdown",
   "id": "6f3ae3f3",
   "metadata": {},
   "source": [
    "Hal ini memastikan apakah python yang digunakan sudah menyediakan packages yang dibutuhkan."
   ]
  },
  {
   "cell_type": "code",
   "execution_count": 1,
   "id": "59458d28",
   "metadata": {
    "vscode": {
     "languageId": "python"
    }
   },
   "outputs": [],
   "source": [
    "from custom_openquake import *"
   ]
  },
  {
   "cell_type": "markdown",
   "id": "d01ab0e9",
   "metadata": {},
   "source": [
    "## 2. Tambahan"
   ]
  },
  {
   "cell_type": "markdown",
   "id": "6467d5e2",
   "metadata": {},
   "source": [
    "### 2.2 Variabel"
   ]
  },
  {
   "cell_type": "code",
   "execution_count": 2,
   "id": "6583c093",
   "metadata": {
    "vscode": {
     "languageId": "python"
    }
   },
   "outputs": [],
   "source": [
    "# folder penyimpanan\n",
    "dir_figs = os.path.join(os.getcwd(), 'figs')\n",
    "os.makedirs(dir_figs, exist_ok=True)"
   ]
  },
  {
   "cell_type": "markdown",
   "id": "34ac3ccb",
   "metadata": {},
   "source": [
    "## 3. Katalog gempa"
   ]
  },
  {
   "cell_type": "code",
   "execution_count": 3,
   "id": "5d403477",
   "metadata": {
    "vscode": {
     "languageId": "python"
    }
   },
   "outputs": [],
   "source": [
    "# membuka data pkl\n",
    "(catalogue_sumatera_fault_filt_2, \n",
    " catalogue_mentawai_fault_filt_2, \n",
    " catalogue_megathrust_1, \n",
    " catalogue_megathrust_2, \n",
    " catalogue_shallow_background_1_filt_4, \n",
    " catalogue_deep_background_1_1_filt_2, \n",
    " catalogue_deep_background_1_2_filt_3, \n",
    " catalogue_deep_background_1_3_filt_3) = open_pkl(\"tmp_OQ006_catalogues_filtered.pkl\")"
   ]
  },
  {
   "cell_type": "markdown",
   "id": "69805d55",
   "metadata": {},
   "source": [
    "## 4. Menghitung Mc"
   ]
  },
  {
   "cell_type": "code",
   "execution_count": 4,
   "id": "a1009678",
   "metadata": {},
   "outputs": [
    {
     "data": {
      "image/png": "[encoded data removed]",
      "text/plain": [
       "<Figure size 576x432 with 2 Axes>"
      ]
     },
     "metadata": {
      "needs_background": "light"
     },
     "output_type": "display_data"
    }
   ],
   "source": [
    "magnitude_bin_width = 0.1\n",
    "time_bin_width = 0.1\n",
    "plot_magnitude_time_density (catalogue_sumatera_fault_filt_2, magnitude_bin_width, time_bin_width)"
   ]
  },
  {
   "cell_type": "code",
   "execution_count": 5,
   "id": "25028bfc",
   "metadata": {},
   "outputs": [
    {
     "name": "stdout",
     "output_type": "stream",
     "text": [
      "== Keseluruhan Mc ==\n",
      "[[2.016e+03 1.400e+00]\n",
      " [2.016e+03 1.500e+00]\n",
      " [2.016e+03 1.600e+00]\n",
      " [2.016e+03 1.700e+00]\n",
      " [2.011e+03 1.800e+00]\n",
      " [2.011e+03 1.900e+00]\n",
      " [2.011e+03 2.000e+00]\n",
      " [2.008e+03 2.100e+00]\n",
      " [2.003e+03 2.200e+00]\n",
      " [2.003e+03 2.300e+00]\n",
      " [2.003e+03 2.400e+00]\n",
      " [2.003e+03 2.500e+00]\n",
      " [2.003e+03 2.600e+00]\n",
      " [2.003e+03 2.700e+00]\n",
      " [2.003e+03 2.800e+00]\n",
      " [2.003e+03 2.900e+00]\n",
      " [2.003e+03 3.000e+00]\n",
      " [2.003e+03 3.100e+00]\n",
      " [2.003e+03 3.200e+00]\n",
      " [2.003e+03 3.300e+00]\n",
      " [2.003e+03 3.400e+00]\n",
      " [2.003e+03 3.500e+00]\n",
      " [2.003e+03 3.600e+00]\n",
      " [1.999e+03 3.700e+00]\n",
      " [1.997e+03 3.800e+00]\n",
      " [1.991e+03 3.900e+00]\n",
      " [1.991e+03 4.000e+00]\n",
      " [1.984e+03 4.100e+00]\n",
      " [1.984e+03 4.200e+00]\n",
      " [1.984e+03 4.300e+00]\n",
      " [1.984e+03 4.400e+00]\n",
      " [1.984e+03 4.500e+00]\n",
      " [1.984e+03 4.600e+00]\n",
      " [1.984e+03 4.700e+00]\n",
      " [1.974e+03 4.800e+00]\n",
      " [1.974e+03 4.900e+00]\n",
      " [1.974e+03 5.000e+00]\n",
      " [1.974e+03 5.100e+00]\n",
      " [1.974e+03 5.200e+00]\n",
      " [1.974e+03 5.300e+00]\n",
      " [1.974e+03 5.400e+00]]\n",
      "\n",
      "== selected Mc ==\n",
      "[[1999.     3.7]\n",
      " [1997.     3.8]\n",
      " [1991.     3.9]]\n"
     ]
    }
   ],
   "source": [
    "comp_config = {'magnitude_bin': 0.1,\n",
    "                'time_bin': 5. ,\n",
    "                'increment_lock': True }\n",
    "\n",
    "completeness_table, completeness_table_old = magnitude_of_completeness(catalogue_sumatera_fault_filt_2, \n",
    "                                                                        comp_config, mag_range=[2.5, 4.])\n",
    "\n",
    "print(\"== Keseluruhan Mc ==\")\n",
    "print(completeness_table_old)\n",
    "print(\"\\n== selected Mc ==\")\n",
    "print(completeness_table)"
   ]
  },
  {
   "cell_type": "code",
   "execution_count": 6,
   "id": "b0066ae1",
   "metadata": {},
   "outputs": [
    {
     "name": "stdout",
     "output_type": "stream",
     "text": [
      "--- ctime 1999.0  m_c 3.7000000000000024\n",
      "--- ctime 1997.0  m_c 3.8000000000000025\n",
      "--- ctime 1991.0  m_c 3.9000000000000026\n",
      "\n",
      "== a dan b value ==\n",
      "b value =  1.357532212444995 sigma_b =  0.16295528770196807 a value =  6.023956280368226 sigma_a =  0.6042733956231325\n"
     ]
    }
   ],
   "source": [
    "mle_config = {'magnitude_interval': 0.1 ,\n",
    "              'Average Type': 'Weighted',\n",
    "              'reference_magnitude': None }\n",
    "b_val, sigma_b, a_val, sigma_a = b_a_value(catalogue_sumatera_fault_filt_2, mle_config, completeness_table)\n",
    "\n",
    "print(\"\\n== a dan b value ==\")\n",
    "print(\"b value = \", b_val, \n",
    "      \"sigma_b = \", sigma_b, \n",
    "      \"a value = \", a_val, \n",
    "      \"sigma_a = \", sigma_a)"
   ]
  },
  {
   "cell_type": "code",
   "execution_count": 7,
   "id": "4fa064e9",
   "metadata": {},
   "outputs": [
    {
     "data": {
      "text/plain": [
       "<matplotlib.legend.Legend at 0x21a620abba8>"
      ]
     },
     "execution_count": 7,
     "metadata": {},
     "output_type": "execute_result"
    },
    {
     "data": {
      "image/png": "[encoded data removed]",
      "text/plain": [
       "<Figure size 576x432 with 1 Axes>"
      ]
     },
     "metadata": {
      "needs_background": "light"
     },
     "output_type": "display_data"
    }
   ],
   "source": [
    "magnitude_bin_width = 0.1\n",
    "m_range = [2., 5.5]\n",
    "plot_observed_reccurence_with_Mc(catalogue_sumatera_fault_filt_2, completeness_table, completeness_table_old, \n",
    "                                 magnitude_bin_width, cmap_Mc='Dark2')\n",
    "plt.plot(m_range, [10**(a_val-b_val*m_range[0]), 10**(a_val-b_val*m_range[1])], c='black', label=\"regresi\")\n",
    "plt.legend()"
   ]
  },
  {
   "cell_type": "code",
   "execution_count": null,
   "id": "52fed0c9",
   "metadata": {},
   "outputs": [],
   "source": []
  }
 ],
 "metadata": {
  "kernelspec": {
   "display_name": "Python 3",
   "language": "python",
   "name": "python3"
  },
  "language_info": {
   "codemirror_mode": {
    "name": "ipython",
    "version": 3
   },
   "file_extension": ".py",
   "mimetype": "text/x-python",
   "name": "python",
   "nbconvert_exporter": "python",
   "pygments_lexer": "ipython3",
   "version": "3.6.6"
  }
 },
 "nbformat": 4,
 "nbformat_minor": 5
}
