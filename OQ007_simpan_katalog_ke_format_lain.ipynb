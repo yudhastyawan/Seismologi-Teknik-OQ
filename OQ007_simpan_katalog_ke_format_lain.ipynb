{
 "cells": [
  {
   "cell_type": "markdown",
   "id": "4b08976c",
   "metadata": {},
   "source": [
    "# Simpan data katalog ke shp"
   ]
  },
  {
   "cell_type": "markdown",
   "id": "a34a27a1",
   "metadata": {},
   "source": [
    "Jalankan file ini di jupyter dengan cara mengubah kernel ke `maps`. Jika kernel `maps` belum ada, lakukan langkah-langkah berikut ini:\n",
    "\n",
    "1. Buka Anaconda Prompt\n",
    "2. Buat environment baru: `conda create -n maps python=3.9`\n",
    "3. Aktifkan environment `maps`: `conda activate maps`\n",
    "4. Install `geopandas`: `pip install geopandas`\n",
    "5. Install `matplotlib`: `pip install matplotlib`\n",
    "6. Install `ipykernel`: `pip install ipykernel`\n",
    "7. Daftarkan ke dalam kernel: `python -m ipykernel install --name \"maps\" --display-name \"maps\"`\n",
    "\n",
    "Data yang disimpan dalam format shp dapat digunakan di QGIS"
   ]
  },
  {
   "cell_type": "markdown",
   "id": "f1059d92",
   "metadata": {},
   "source": [
    "# \\#\\#\\# kernel: maps \\#\\#\\#"
   ]
  },
  {
   "cell_type": "markdown",
   "id": "14ac00b8",
   "metadata": {},
   "source": [
    "## 1. Import packages"
   ]
  },
  {
   "cell_type": "code",
   "execution_count": 1,
   "id": "87b561eb",
   "metadata": {},
   "outputs": [],
   "source": [
    "from custom_maps import *"
   ]
  },
  {
   "cell_type": "markdown",
   "id": "f0412017",
   "metadata": {},
   "source": [
    "## 2. Simpan dict katalog ke shp"
   ]
  },
  {
   "cell_type": "code",
   "execution_count": 2,
   "id": "c786d961",
   "metadata": {
    "scrolled": false
   },
   "outputs": [
    {
     "name": "stderr",
     "output_type": "stream",
     "text": [
      "/Users/yudhastyawan/Documents/projects/openquake/Seismologi-Teknik-OQ/custom_maps.py:80: UserWarning: Column names longer than 10 characters will be truncated when saved to ESRI Shapefile.\n",
      "  gdf.to_file(os.path.join(savedir, name_file))\n"
     ]
    }
   ],
   "source": [
    "catalogue = open_pkl(\"filt_dict_catalogue_shallow_background_1.pkl\")\n",
    "catalogue_to_shp(catalogue, \"filt_dict_catalogue_shallow_background_1.shp\")"
   ]
  },
  {
   "cell_type": "markdown",
   "id": "06b6686f",
   "metadata": {},
   "source": [
    "## 3. Simpan area faults ke shp"
   ]
  },
  {
   "cell_type": "code",
   "execution_count": 3,
   "id": "9baece4f",
   "metadata": {},
   "outputs": [],
   "source": [
    "# buka koordinat area faults\n",
    "area_faults_coords = open_pkl(\"tmp_OQ004_area_faults_geoms.pkl\")\n",
    "\n",
    "for key in [\"merged\", \"individual\"]:\n",
    "    if area_faults_coords[key] != None:\n",
    "        for i, area in enumerate(area_faults_coords[key]):\n",
    "            area_fault = Polygon(area)\n",
    "            polygon_to_shp(area_fault, f\"area_faults_{key}_{i}.shp\")"
   ]
  },
  {
   "cell_type": "markdown",
   "id": "6288886e",
   "metadata": {},
   "source": [
    "# \\#\\#\\# kernel: openquake \\#\\#\\#"
   ]
  },
  {
   "cell_type": "markdown",
   "id": "a3816751",
   "metadata": {},
   "source": [
    "## 1. Import packages"
   ]
  },
  {
   "cell_type": "code",
   "execution_count": 1,
   "id": "990ad4e4",
   "metadata": {},
   "outputs": [],
   "source": [
    "from custom_openquake import *"
   ]
  },
  {
   "cell_type": "markdown",
   "id": "adfb0202",
   "metadata": {},
   "source": [
    "## 2. Simpan dict katalog ke csv"
   ]
  },
  {
   "cell_type": "code",
   "execution_count": 2,
   "id": "af3545cc",
   "metadata": {
    "scrolled": false
   },
   "outputs": [],
   "source": [
    "catalogue_pkl_to_csv(\"filt_dict_catalogue_shallow_background_1.pkl\", \"filt_dict_catalogue_shallow_background_1.csv\")"
   ]
  },
  {
   "cell_type": "code",
   "execution_count": null,
   "id": "835e7b64",
   "metadata": {},
   "outputs": [],
   "source": []
  }
 ],
 "metadata": {
  "kernelspec": {
   "display_name": "maps",
   "language": "python",
   "name": "maps"
  },
  "language_info": {
   "codemirror_mode": {
    "name": "ipython",
    "version": 3
   },
   "file_extension": ".py",
   "mimetype": "text/x-python",
   "name": "python",
   "nbconvert_exporter": "python",
   "pygments_lexer": "ipython3",
   "version": "3.9.16"
  }
 },
 "nbformat": 4,
 "nbformat_minor": 5
}
