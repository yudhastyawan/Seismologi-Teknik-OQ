{
 "cells": [
  {
   "cell_type": "markdown",
   "id": "7fe4f2ac",
   "metadata": {},
   "source": [
    "# Menjalankan SHERIFS"
   ]
  },
  {
   "cell_type": "markdown",
   "id": "3d34b34a",
   "metadata": {},
   "source": [
    "Jalankan file ini di Openquake yang sudah diinstal di komputer masing-masing.\n",
    "\n",
    "atau:\n",
    "\n",
    "Jalankan file ini di jupyter dengan cara mengubah kernel ke `openquake`. Jika kernel `openquake` belum ada, lakukan langkah-langkah berikut ini:\n",
    "\n",
    "Openquake dapat diunduh di sini:\n",
    "https://downloads.openquake.org/pkgs/windows/oq-engine/OpenQuake_Engine_3.11.5-1.exe\n",
    "\n",
    "Install beberapa tambahan packages di openquake:\n",
    "\n",
    "(Asumsi lokasi instalasi openquake di sini: `C:\\Program Files\\Openquake Engine\\python3.6\\`, \n",
    "jika tidak maka ubah lokasi tersebut sesuai dengan komputer masing-masing)\n",
    "\n",
    "1. Buka Command Prompt\n",
    "2. Install `jupyter`: `\"C:\\Program Files\\Openquake Engine\\python3.6\\python.exe\" -m pip install jupyter`\n",
    "3. Daftarkan ke dalam kernel (opsional): `\"C:\\Program Files\\Openquake Engine\\python3.6\\python.exe\" -m ipykernel install --name \"openquake\" --display-name \"openquake\"`\n",
    "\n",
    "\n",
    "Untuk uji coba, jalankan salah satu baris di bawah ini:\n",
    "\n",
    "`\"C:\\Program Files\\Openquake Engine\\python3.6\\Scripts\\jupyter.exe\" notebook`\n",
    "\n",
    "atau\n",
    "\n",
    "`\"C:\\Program Files\\Openquake Engine\\python3.6\\Scripts\\jupyter-notebook.exe\"`"
   ]
  },
  {
   "cell_type": "markdown",
   "id": "41fb843b",
   "metadata": {},
   "source": [
    "## 1. Import packages"
   ]
  },
  {
   "cell_type": "markdown",
   "id": "6f3ae3f3",
   "metadata": {},
   "source": [
    "Hal ini memastikan apakah python yang digunakan sudah menyediakan packages yang dibutuhkan."
   ]
  },
  {
   "cell_type": "code",
   "execution_count": 1,
   "id": "59458d28",
   "metadata": {
    "vscode": {
     "languageId": "python"
    }
   },
   "outputs": [],
   "source": [
    "from custom_openquake import *"
   ]
  },
  {
   "cell_type": "markdown",
   "id": "750ea19f",
   "metadata": {},
   "source": [
    "## 2. Jalankan SHERIFS"
   ]
  },
  {
   "cell_type": "code",
   "execution_count": 5,
   "id": "b420ea1f",
   "metadata": {
    "scrolled": false
   },
   "outputs": [
    {
     "name": "stdout",
     "output_type": "stream",
     "text": [
      "\n",
      "Running SHERIFS version 1.3\n",
      "\n",
      "\n",
      "*******\n",
      "LOGIC TREE BRANCH 0 \n",
      "*******\n",
      "running branch id  0  for the first time\n",
      "\n",
      "Model : \t Lampung\n",
      "Rupture set : \t\t set_1\n",
      "Model : \t\t\t GR  b :  1.0\n",
      "Model : \t\t\t\t BG_1\n",
      "Scaling law : \t\t\t\t\t WC1994 Area m\n",
      "Sample :  1\n",
      "\n",
      "Importing faults\n",
      "\t - importing faults geometry\n",
      "\t - importing faults properties\n",
      "Faults imported.\n",
      "Picking slip-rates...\n",
      "\t\tslip-rates picked.\n",
      "Building scenarios and Mmax\n",
      "\t - scenario and max built\n",
      "\t - Populating magnitude bins with ruptures\n",
      "\t\t -> Bins populated.\n",
      "Number of dsr to spend : 570000.0\n",
      "Min of sdr : 30000\n",
      "Max of sdr : 140000\n",
      "1%\n",
      "25%\n",
      "50%\n",
      "set target - limit on the largest magnitudes\n",
      "- target set - \n",
      "75%\n",
      "-target filled-\n",
      "90%\n",
      "ratio between the target and the shape of the model : 1.0\n",
      "ratio of NMS : 20\n",
      "The calculation took: 0 days, 0 hours, 0 minutes and 47.50304627418518 seconds.\n"
     ]
    }
   ],
   "source": [
    "SHERIFS('SHERIFS/Example/input/sherifs_in.toml')"
   ]
  },
  {
   "cell_type": "code",
   "execution_count": 3,
   "id": "97a70b88",
   "metadata": {},
   "outputs": [],
   "source": [
    "# menyalin hasil output SHERIFS ke oqfiles\n",
    "copytree('./SHERIFS/Example/output/ssm/', './oqfiles/single_ruptures/ssm_1/')\n",
    "\n",
    "# menghapus file-file yang tidak dibutuhkan\n",
    "for log_dir in glob.glob('./oqfiles/single_ruptures/ssm_1/log_b*'):\n",
    "    shutil.rmtree(log_dir)\n",
    "if os.path.exists('./oqfiles/single_ruptures/ssm_1/lt_branches_id.txt'):\n",
    "    os.remove('./oqfiles/single_ruptures/ssm_1/lt_branches_id.txt')"
   ]
  },
  {
   "cell_type": "code",
   "execution_count": null,
   "id": "a9319301",
   "metadata": {},
   "outputs": [],
   "source": []
  }
 ],
 "metadata": {
  "kernelspec": {
   "display_name": "Python 3 (ipykernel)",
   "language": "python",
   "name": "python3"
  },
  "language_info": {
   "codemirror_mode": {
    "name": "ipython",
    "version": 3
   },
   "file_extension": ".py",
   "mimetype": "text/x-python",
   "name": "python",
   "nbconvert_exporter": "python",
   "pygments_lexer": "ipython3",
   "version": "3.9.10"
  }
 },
 "nbformat": 4,
 "nbformat_minor": 5
}
