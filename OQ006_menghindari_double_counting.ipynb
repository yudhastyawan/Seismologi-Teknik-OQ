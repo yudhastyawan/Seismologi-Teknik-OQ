{
 "cells": [
  {
   "cell_type": "markdown",
   "id": "7fe4f2ac",
   "metadata": {},
   "source": [
    "# Menghindari gempa berada di dua atau lebih katalog yang berbeda"
   ]
  },
  {
   "cell_type": "markdown",
   "id": "3d34b34a",
   "metadata": {},
   "source": [
    "Jalankan file ini di Openquake yang sudah diinstal di komputer masing-masing.\n",
    "\n",
    "atau:\n",
    "\n",
    "Jalankan file ini di jupyter dengan cara mengubah kernel ke `openquake`. Jika kernel `openquake` belum ada, lakukan langkah-langkah berikut ini:\n",
    "\n",
    "Openquake dapat diunduh di sini:\n",
    "https://downloads.openquake.org/pkgs/windows/oq-engine/OpenQuake_Engine_3.11.5-1.exe\n",
    "\n",
    "Install beberapa tambahan packages di openquake:\n",
    "\n",
    "(Asumsi lokasi instalasi openquake di sini: `C:\\Program Files\\Openquake Engine\\python3.6\\`, \n",
    "jika tidak maka ubah lokasi tersebut sesuai dengan komputer masing-masing)\n",
    "\n",
    "1. Buka Command Prompt\n",
    "2. Install `jupyter`: `\"C:\\Program Files\\Openquake Engine\\python3.6\\python.exe\" -m pip install jupyter`\n",
    "3. Daftarkan ke dalam kernel (opsional): `\"C:\\Program Files\\Openquake Engine\\python3.6\\python.exe\" -m ipykernel install --name \"openquake\" --display-name \"openquake\"`\n",
    "\n",
    "\n",
    "Untuk uji coba, jalankan salah satu baris di bawah ini:\n",
    "\n",
    "`\"C:\\Program Files\\Openquake Engine\\python3.6\\Scripts\\jupyter.exe\" notebook`\n",
    "\n",
    "atau\n",
    "\n",
    "`\"C:\\Program Files\\Openquake Engine\\python3.6\\Scripts\\jupyter-notebook.exe\"`"
   ]
  },
  {
   "cell_type": "markdown",
   "id": "41fb843b",
   "metadata": {},
   "source": [
    "## 1. Import packages"
   ]
  },
  {
   "cell_type": "markdown",
   "id": "6f3ae3f3",
   "metadata": {},
   "source": [
    "Hal ini memastikan apakah python yang digunakan sudah menyediakan packages yang dibutuhkan."
   ]
  },
  {
   "cell_type": "code",
   "execution_count": 1,
   "id": "59458d28",
   "metadata": {
    "vscode": {
     "languageId": "python"
    }
   },
   "outputs": [],
   "source": [
    "from custom_openquake import *\n",
    "\n",
    "# folder penyimpanan\n",
    "dir_figs = os.path.join(os.getcwd(), 'figs')\n",
    "os.makedirs(dir_figs, exist_ok=True)"
   ]
  },
  {
   "cell_type": "markdown",
   "id": "88a3b488",
   "metadata": {},
   "source": [
    "## 2. Remove selected events"
   ]
  },
  {
   "cell_type": "code",
   "execution_count": 2,
   "id": "d6e1aeb5",
   "metadata": {},
   "outputs": [
    {
     "name": "stdout",
     "output_type": "stream",
     "text": [
      "jumlah gempa yang dihapus:  346\n"
     ]
    }
   ],
   "source": [
    "catalogue_1 = catalogue_from_pkl('dict_catalogue_fault_KumeringNorth_others.pkl')\n",
    "\n",
    "catalogue_2 = catalogue_from_pkl('dict_catalogue_shallow_background_1.pkl')\n",
    "\n",
    "catalogue_filt = remove_events_in_A_from_B(catalogue_2, catalogue_1)\n",
    "\n",
    "catalogue_to_pkl(catalogue_filt, filename=\"filt_dict_catalogue_shallow_background_1.pkl\")\n",
    "\n",
    "## URUTAN PRIORITAS\n",
    "# megathrust\n",
    "# area fault\n",
    "# shallow background\n",
    "# deep background\n"
   ]
  },
  {
   "cell_type": "code",
   "execution_count": null,
   "id": "4097a531",
   "metadata": {},
   "outputs": [],
   "source": []
  }
 ],
 "metadata": {
  "kernelspec": {
   "display_name": "Python 3 (ipykernel)",
   "language": "python",
   "name": "python3"
  },
  "language_info": {
   "codemirror_mode": {
    "name": "ipython",
    "version": 3
   },
   "file_extension": ".py",
   "mimetype": "text/x-python",
   "name": "python",
   "nbconvert_exporter": "python",
   "pygments_lexer": "ipython3",
   "version": "3.9.10"
  }
 },
 "nbformat": 4,
 "nbformat_minor": 5
}
