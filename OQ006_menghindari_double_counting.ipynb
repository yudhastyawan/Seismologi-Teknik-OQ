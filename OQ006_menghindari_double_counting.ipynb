{
 "cells": [
  {
   "cell_type": "markdown",
   "id": "7fe4f2ac",
   "metadata": {},
   "source": [
    "# Menghindari gempa berada di dua atau lebih katalog yang berbeda"
   ]
  },
  {
   "cell_type": "markdown",
   "id": "3d34b34a",
   "metadata": {},
   "source": [
    "Jalankan file ini di Openquake yang sudah diinstal di komputer masing-masing.\n",
    "\n",
    "atau:\n",
    "\n",
    "Jalankan file ini di jupyter dengan cara mengubah kernel ke `openquake`. Jika kernel `openquake` belum ada, lakukan langkah-langkah berikut ini:\n",
    "\n",
    "Openquake dapat diunduh di sini:\n",
    "https://downloads.openquake.org/pkgs/windows/oq-engine/OpenQuake_Engine_3.11.5-1.exe\n",
    "\n",
    "Install beberapa tambahan packages di openquake:\n",
    "\n",
    "(Asumsi lokasi instalasi openquake di sini: `C:\\Program Files\\Openquake Engine\\python3.6\\`, \n",
    "jika tidak maka ubah lokasi tersebut sesuai dengan komputer masing-masing)\n",
    "\n",
    "1. Buka Command Prompt\n",
    "2. Install `utm`: `\"C:\\Program Files\\Openquake Engine\\python3.6\\python.exe\" -m pip install utm`\n",
    "3. Install `jupyter`: `\"C:\\Program Files\\Openquake Engine\\python3.6\\python.exe\" -m pip install jupyter`\n",
    "4. Daftarkan ke dalam kernel (opsional): `python -m ipykernel install --name \"openquake\" --display-name \"openquake\"`\n",
    "\n",
    "\n",
    "Untuk uji coba, jalankan salah satu baris di bawah ini:\n",
    "\n",
    "`\"C:\\Program Files\\Openquake Engine\\python3.6\\Scripts\\jupyter.exe\" notebook`\n",
    "\n",
    "atau\n",
    "\n",
    "`\"C:\\Program Files\\Openquake Engine\\python3.6\\Scripts\\jupyter-notebook.exe\"`"
   ]
  },
  {
   "cell_type": "markdown",
   "id": "41fb843b",
   "metadata": {},
   "source": [
    "## 1. Import packages"
   ]
  },
  {
   "cell_type": "markdown",
   "id": "6f3ae3f3",
   "metadata": {},
   "source": [
    "Hal ini memastikan apakah python yang digunakan sudah menyediakan packages yang dibutuhkan."
   ]
  },
  {
   "cell_type": "code",
   "execution_count": 1,
   "id": "59458d28",
   "metadata": {
    "vscode": {
     "languageId": "python"
    }
   },
   "outputs": [],
   "source": [
    "from openquake.hmtk.parsers.catalogue import *\n",
    "from openquake.hmtk.plotting.seismicity.catalogue_plots import *\n",
    "from openquake.hmtk.seismicity.declusterer.dec_gardner_knopoff import *\n",
    "from openquake.hmtk.seismicity.declusterer.distance_time_windows import *\n",
    "from openquake.hmtk.seismicity.selector import *\n",
    "from openquake.hazardlib.geo.polygon import Polygon as PolyOQ\n",
    "from openquake.hazardlib.geo.point import Point as PointOQ\n",
    "from openquake.hazardlib.geo.line import Line as LineOQ\n",
    "from openquake.hmtk.seismicity.completeness.comp_stepp_1971 import Stepp1971\n",
    "from openquake.hmtk.seismicity.occurrence.b_maximum_likelihood import BMaxLikelihood\n",
    "from openquake.hmtk.plotting.seismicity.completeness.plot_stepp_1972 import create_stepp_plot\n",
    "from openquake.hmtk.seismicity.smoothing.smoothed_seismicity import SmoothedSeismicity\n",
    "from openquake.hmtk.seismicity.smoothing.kernels.isotropic_gaussian import IsotropicGaussian\n",
    "from openquake.hazardlib.geo.surface.complex_fault import ComplexFaultSurface\n",
    "from shapely.geometry import *\n",
    "from shapely.ops import *\n",
    "import os\n",
    "import utm\n",
    "import numpy as np\n",
    "import matplotlib.pyplot as plt\n",
    "from copy import deepcopy\n",
    "import pickle\n",
    "from custom_openquake import *"
   ]
  },
  {
   "cell_type": "markdown",
   "id": "d01ab0e9",
   "metadata": {},
   "source": [
    "## 2. Tambahan"
   ]
  },
  {
   "cell_type": "markdown",
   "id": "6467d5e2",
   "metadata": {},
   "source": [
    "### 2.2 Variabel"
   ]
  },
  {
   "cell_type": "code",
   "execution_count": 2,
   "id": "6583c093",
   "metadata": {
    "vscode": {
     "languageId": "python"
    }
   },
   "outputs": [],
   "source": [
    "# folder penyimpanan\n",
    "dir_figs = os.path.join(os.getcwd(), 'figs')\n",
    "os.makedirs(dir_figs, exist_ok=True)"
   ]
  },
  {
   "cell_type": "markdown",
   "id": "34ac3ccb",
   "metadata": {},
   "source": [
    "## 3. Katalog gempa"
   ]
  },
  {
   "cell_type": "code",
   "execution_count": 14,
   "id": "5d403477",
   "metadata": {
    "vscode": {
     "languageId": "python"
    }
   },
   "outputs": [],
   "source": [
    "# membuka data pkl\n",
    "catalogue_area_faults = open_pkl(\"tmp_OQ004_catalogue_area_faults.pkl\")\n",
    "catalogue_megathrusts = open_pkl(\"tmp_OQ004_catalogue_megathrusts.pkl\")\n",
    "catalogue_shallow_backgrounds = open_pkl(\"tmp_OQ004_catalogue_shallow_backgrounds.pkl\")\n",
    "catalogue_deep_backgrounds, range_list = open_pkl(\"tmp_OQ004_catalogue_deep_backgrounds.pkl\")\n",
    "\n",
    "catalogue_sumatera_fault = catalogue_area_faults['merged'][0]\n",
    "catalogue_mentawai_fault = catalogue_area_faults['individual'][0]\n",
    "catalogue_megathrust_1 = catalogue_megathrusts[0]\n",
    "catalogue_megathrust_2 = catalogue_megathrusts[1]\n",
    "catalogue_shallow_background_1 = catalogue_shallow_backgrounds[0]\n",
    "catalogue_deep_background_1_1 = catalogue_deep_backgrounds[0][0]\n",
    "catalogue_deep_background_1_2 = catalogue_deep_backgrounds[0][1]\n",
    "catalogue_deep_background_1_3 = catalogue_deep_backgrounds[0][2]"
   ]
  },
  {
   "cell_type": "markdown",
   "id": "86c0f621",
   "metadata": {},
   "source": [
    "## 4. Filter area faults dari data megathrusts"
   ]
  },
  {
   "cell_type": "code",
   "execution_count": 18,
   "id": "8a36265b",
   "metadata": {},
   "outputs": [
    {
     "name": "stdout",
     "output_type": "stream",
     "text": [
      "jumlah gempa yang dihapus:  0\n",
      "jumlah gempa yang dihapus:  0\n",
      "jumlah gempa yang dihapus:  2\n",
      "jumlah gempa yang dihapus:  2\n",
      "jumlah gempa yang dihapus:  0\n",
      "jumlah gempa yang dihapus:  1\n",
      "jumlah gempa yang dihapus:  265\n",
      "jumlah gempa yang dihapus:  77\n",
      "jumlah gempa yang dihapus:  113\n",
      "jumlah gempa yang dihapus:  108\n",
      "jumlah gempa yang dihapus:  0\n",
      "jumlah gempa yang dihapus:  0\n",
      "jumlah gempa yang dihapus:  0\n",
      "jumlah gempa yang dihapus:  0\n",
      "jumlah gempa yang dihapus:  0\n",
      "jumlah gempa yang dihapus:  0\n"
     ]
    }
   ],
   "source": [
    "###\n",
    "catalogue_sumatera_fault_filt_1 = remove_events_in_A_from_B(catalogue_sumatera_fault, \n",
    "                                                            catalogue_megathrust_1)\n",
    "\n",
    "catalogue_sumatera_fault_filt_2 = remove_events_in_A_from_B(catalogue_sumatera_fault_filt_1, \n",
    "                                                            catalogue_megathrust_2)\n",
    "\n",
    "###\n",
    "catalogue_mentawai_fault_filt_1 = remove_events_in_A_from_B(catalogue_mentawai_fault, \n",
    "                                                            catalogue_megathrust_1)\n",
    "\n",
    "catalogue_mentawai_fault_filt_2 = remove_events_in_A_from_B(catalogue_mentawai_fault_filt_1, \n",
    "                                                            catalogue_megathrust_2)\n",
    "\n",
    "###\n",
    "catalogue_shallow_background_1_filt_1 = remove_events_in_A_from_B(catalogue_shallow_background_1, \n",
    "                                                            catalogue_megathrust_1)\n",
    "\n",
    "catalogue_shallow_background_1_filt_2 = remove_events_in_A_from_B(catalogue_shallow_background_1_filt_1, \n",
    "                                                            catalogue_megathrust_2)\n",
    "\n",
    "catalogue_shallow_background_1_filt_3 = remove_events_in_A_from_B(catalogue_shallow_background_1_filt_2, \n",
    "                                                            catalogue_sumatera_fault_filt_2)\n",
    "\n",
    "catalogue_shallow_background_1_filt_4 = remove_events_in_A_from_B(catalogue_shallow_background_1_filt_3, \n",
    "                                                            catalogue_mentawai_fault_filt_2)\n",
    "\n",
    "###\n",
    "catalogue_deep_background_1_1_filt_1 = remove_events_in_A_from_B(catalogue_deep_background_1_1, \n",
    "                                                            catalogue_megathrust_1)\n",
    "\n",
    "catalogue_deep_background_1_1_filt_2 = remove_events_in_A_from_B(catalogue_deep_background_1_1_filt_1, \n",
    "                                                            catalogue_megathrust_2)\n",
    "\n",
    "###\n",
    "catalogue_deep_background_1_2_filt_1 = remove_events_in_A_from_B(catalogue_deep_background_1_2, \n",
    "                                                            catalogue_megathrust_1)\n",
    "\n",
    "catalogue_deep_background_1_2_filt_2 = remove_events_in_A_from_B(catalogue_deep_background_1_2_filt_1, \n",
    "                                                            catalogue_megathrust_2)\n",
    "\n",
    "catalogue_deep_background_1_2_filt_3 = remove_events_in_A_from_B(catalogue_deep_background_1_2_filt_2, \n",
    "                                                            catalogue_deep_background_1_1_filt_2)\n",
    "\n",
    "###\n",
    "catalogue_deep_background_1_3_filt_1 = remove_events_in_A_from_B(catalogue_deep_background_1_3, \n",
    "                                                            catalogue_megathrust_1)\n",
    "\n",
    "catalogue_deep_background_1_3_filt_2 = remove_events_in_A_from_B(catalogue_deep_background_1_3_filt_1, \n",
    "                                                            catalogue_megathrust_2)\n",
    "\n",
    "catalogue_deep_background_1_3_filt_3 = remove_events_in_A_from_B(catalogue_deep_background_1_3_filt_2, \n",
    "                                                            catalogue_deep_background_1_2_filt_3)"
   ]
  },
  {
   "cell_type": "code",
   "execution_count": 19,
   "id": "4a4d510e",
   "metadata": {},
   "outputs": [],
   "source": [
    "catalogue_to_pkl(catalogue_sumatera_fault_filt_2, \"dict_catalogue_sumatera_fault_filt_2.pkl\")\n",
    "catalogue_to_pkl(catalogue_mentawai_fault_filt_2, \"dict_catalogue_mentawai_fault_filt_2.pkl\")\n",
    "catalogue_to_pkl(catalogue_shallow_background_1_filt_4, \"dict_catalogue_shallow_background_1_filt_4.pkl\")\n",
    "catalogue_to_pkl(catalogue_deep_background_1_1_filt_2, \"dict_catalogue_deep_background_1_1_filt_2.pkl\")\n",
    "catalogue_to_pkl(catalogue_deep_background_1_2_filt_3, \"dict_catalogue_deep_background_1_2_filt_3.pkl\")\n",
    "catalogue_to_pkl(catalogue_deep_background_1_3_filt_3, \"dict_catalogue_deep_background_1_3_filt_3.pkl\")\n",
    "\n",
    "variable_to_pkl(\n",
    "    (\n",
    "        catalogue_sumatera_fault_filt_2,\n",
    "        catalogue_mentawai_fault_filt_2,\n",
    "        catalogue_megathrust_1,\n",
    "        catalogue_megathrust_2,\n",
    "        catalogue_shallow_background_1_filt_4,\n",
    "        catalogue_deep_background_1_1_filt_2,\n",
    "        catalogue_deep_background_1_2_filt_3,\n",
    "        catalogue_deep_background_1_3_filt_3\n",
    "    ),\n",
    "    \"tmp_OQ004_catalogues_filtered.pkl\"\n",
    ")"
   ]
  },
  {
   "cell_type": "code",
   "execution_count": null,
   "id": "4097a531",
   "metadata": {},
   "outputs": [],
   "source": []
  }
 ],
 "metadata": {
  "kernelspec": {
   "display_name": "Python 3 (ipykernel)",
   "language": "python",
   "name": "python3"
  },
  "language_info": {
   "codemirror_mode": {
    "name": "ipython",
    "version": 3
   },
   "file_extension": ".py",
   "mimetype": "text/x-python",
   "name": "python",
   "nbconvert_exporter": "python",
   "pygments_lexer": "ipython3",
   "version": "3.9.10"
  }
 },
 "nbformat": 4,
 "nbformat_minor": 5
}
