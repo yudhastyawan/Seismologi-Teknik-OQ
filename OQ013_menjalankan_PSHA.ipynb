{
 "cells": [
  {
   "cell_type": "markdown",
   "id": "7fe4f2ac",
   "metadata": {},
   "source": [
    "# Menjalankan PSHA"
   ]
  },
  {
   "cell_type": "markdown",
   "id": "e829ae04",
   "metadata": {},
   "source": [
    "Dari struktur file, single dan multiple ruptures memiliki susunan file yang sama:\n",
    "```\n",
    "single_ruptures\n",
    "├── gmpe_logic_tree.xml\n",
    "├── job.ini\n",
    "├── other_sources\n",
    "│   ├── deep_background.xml\n",
    "│   ├── individual_faults.xml\n",
    "│   ├── megathrusts.xml\n",
    "│   └── shallow_background.xml\n",
    "├── source_model_logic_tree.xml\n",
    "└── ssm_1\n",
    "    ├── Lampung_sections.xml\n",
    "    └── b_0\n",
    "        ├── Source_model_1.xml\n",
    "        ├── bg_1.xml\n",
    "        └── single_sec_rup.xml\n",
    "```\n",
    "\n",
    "Ubah beberapa parameter yang terdapat di `job.ini`, `gmpe_logic_tree.xml`, dan `source_model_logic_tree.xml`\n",
    "\n",
    "Lalu, jalankan openquake dengan cara membuka Openquake console, `cd` ke direktori kerja, dan jalankan perintah:\n",
    "```\n",
    "oq engine --run job.ini\n",
    "```\n",
    "\n",
    "di folder single_ruptures, atau dengan membuka openquake webui dan upload zip file untuk folder single_ruptures"
   ]
  },
  {
   "cell_type": "code",
   "execution_count": null,
   "id": "24e6273f",
   "metadata": {},
   "outputs": [],
   "source": []
  }
 ],
 "metadata": {
  "kernelspec": {
   "display_name": "Python 3 (ipykernel)",
   "language": "python",
   "name": "python3"
  },
  "language_info": {
   "codemirror_mode": {
    "name": "ipython",
    "version": 3
   },
   "file_extension": ".py",
   "mimetype": "text/x-python",
   "name": "python",
   "nbconvert_exporter": "python",
   "pygments_lexer": "ipython3",
   "version": "3.9.10"
  }
 },
 "nbformat": 4,
 "nbformat_minor": 5
}
