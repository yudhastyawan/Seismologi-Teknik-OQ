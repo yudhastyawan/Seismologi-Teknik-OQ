{
 "cells": [
  {
   "cell_type": "markdown",
   "id": "4b08976c",
   "metadata": {},
   "source": [
    "# Template maps"
   ]
  },
  {
   "cell_type": "markdown",
   "id": "a34a27a1",
   "metadata": {},
   "source": [
    "Jalankan file ini di jupyter dengan cara mengubah kernel ke `maps`. Jika kernel `maps` belum ada, lakukan langkah-langkah berikut ini:\n",
    "\n",
    "1. Buka Anaconda Prompt\n",
    "2. Buat environment baru: `conda create -n maps python=3.9`\n",
    "3. Aktifkan environment `maps`: `conda activate maps`\n",
    "4. Install `geopandas`: `pip install geopandas`\n",
    "5. Install `matplotlib`: `pip install matplotlib`\n",
    "6. Install `ipykernel`: `pip install ipykernel`\n",
    "7. Daftarkan ke dalam kernel: `python -m ipykernel install --name \"maps\" --display-name \"maps\"`\n",
    "\n",
    "Data yang disimpan dalam format shp dapat digunakan di QGIS"
   ]
  },
  {
   "cell_type": "markdown",
   "id": "14ac00b8",
   "metadata": {},
   "source": [
    "## 1. Import packages"
   ]
  },
  {
   "cell_type": "code",
   "execution_count": 1,
   "id": "87b561eb",
   "metadata": {},
   "outputs": [],
   "source": [
    "import os\n",
    "import pickle\n",
    "import pandas as pd\n",
    "import geopandas as gpd\n",
    "from shapely.geometry import Point, LineString, Polygon\n",
    "import numpy as np\n",
    "import matplotlib.pyplot as plt\n",
    "from matplotlib.lines import Line2D\n",
    "from custom_maps import *"
   ]
  },
  {
   "cell_type": "markdown",
   "id": "f0412017",
   "metadata": {},
   "source": [
    "## 2. Lakukan di bawah ini"
   ]
  },
  {
   "cell_type": "code",
   "execution_count": null,
   "id": "9baece4f",
   "metadata": {},
   "outputs": [],
   "source": []
  }
 ],
 "metadata": {
  "kernelspec": {
   "display_name": "maps",
   "language": "python",
   "name": "maps"
  },
  "language_info": {
   "codemirror_mode": {
    "name": "ipython",
    "version": 3
   },
   "file_extension": ".py",
   "mimetype": "text/x-python",
   "name": "python",
   "nbconvert_exporter": "python",
   "pygments_lexer": "ipython3",
   "version": "3.9.16"
  }
 },
 "nbformat": 4,
 "nbformat_minor": 5
}
