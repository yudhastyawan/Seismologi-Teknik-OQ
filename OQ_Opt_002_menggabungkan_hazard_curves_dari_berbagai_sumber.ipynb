{
 "cells": [
  {
   "cell_type": "markdown",
   "id": "7fe4f2ac",
   "metadata": {},
   "source": [
    "# Menggabungkan kurva hazard dari berbagai sumber"
   ]
  },
  {
   "cell_type": "markdown",
   "id": "3d34b34a",
   "metadata": {},
   "source": [
    "Jalankan file ini di Openquake yang sudah diinstal di komputer masing-masing.\n",
    "\n",
    "atau:\n",
    "\n",
    "Jalankan file ini di jupyter dengan cara mengubah kernel ke `openquake`. Jika kernel `openquake` belum ada, lakukan langkah-langkah berikut ini:\n",
    "\n",
    "Openquake dapat diunduh di sini:\n",
    "https://downloads.openquake.org/pkgs/windows/oq-engine/OpenQuake_Engine_3.11.5-1.exe\n",
    "\n",
    "Install beberapa tambahan packages di openquake:\n",
    "\n",
    "(Asumsi lokasi instalasi openquake di sini: `C:\\Program Files\\Openquake Engine\\python3.6\\`, \n",
    "jika tidak maka ubah lokasi tersebut sesuai dengan komputer masing-masing)\n",
    "\n",
    "1. Buka Command Prompt\n",
    "2. Install `jupyter`: `\"C:\\Program Files\\Openquake Engine\\python3.6\\python.exe\" -m pip install jupyter`\n",
    "3. Daftarkan ke dalam kernel (opsional): `\"C:\\Program Files\\Openquake Engine\\python3.6\\python.exe\" -m ipykernel install --name \"openquake\" --display-name \"openquake\"`\n",
    "\n",
    "\n",
    "Untuk uji coba, jalankan salah satu baris di bawah ini:\n",
    "\n",
    "`\"C:\\Program Files\\Openquake Engine\\python3.6\\Scripts\\jupyter.exe\" notebook`\n",
    "\n",
    "atau\n",
    "\n",
    "`\"C:\\Program Files\\Openquake Engine\\python3.6\\Scripts\\jupyter-notebook.exe\"`"
   ]
  },
  {
   "cell_type": "markdown",
   "id": "41fb843b",
   "metadata": {},
   "source": [
    "## 1. Import packages"
   ]
  },
  {
   "cell_type": "markdown",
   "id": "6f3ae3f3",
   "metadata": {},
   "source": [
    "Hal ini memastikan apakah python yang digunakan sudah menyediakan packages yang dibutuhkan."
   ]
  },
  {
   "cell_type": "code",
   "execution_count": 1,
   "id": "59458d28",
   "metadata": {
    "vscode": {
     "languageId": "python"
    }
   },
   "outputs": [],
   "source": [
    "from custom_openquake import *"
   ]
  },
  {
   "cell_type": "markdown",
   "id": "f11f5630",
   "metadata": {},
   "source": [
    "## 2. Codes"
   ]
  },
  {
   "cell_type": "markdown",
   "id": "0ac22cb9",
   "metadata": {},
   "source": [
    "Masukkan file npz ke dalam folder npzfiles, dan ganti nama file tersebut dengan ketentuan:\n",
    "\n",
    "`source_XXXXXXXX.npz`\n",
    "\n",
    "ganti `XXXXXXXX` dengan frasa/nama yang diinginkan."
   ]
  },
  {
   "cell_type": "code",
   "execution_count": 2,
   "id": "4dd60e65",
   "metadata": {},
   "outputs": [
    {
     "name": "stdout",
     "output_type": "stream",
     "text": [
      "['./npzfiles/source_shallow.npz', './npzfiles/source_megathrust.npz']\n",
      "(2, 256, 45)\n"
     ]
    }
   ],
   "source": [
    "srcfiles = glob.glob(\"./npzfiles/source_*.npz\")\n",
    "print(srcfiles)\n",
    "\n",
    "# sesuaikan nilai pga dengan yang ada di job.ini --> \"PGA\": logscale(0.005, 2.13, 45)\n",
    "pga = np.logspace(np.log10(0.005), np.log10(2.13), 45, endpoint=True)\n",
    "\n",
    "sources = [np.load(srcfile) for srcfile in srcfiles]\n",
    "geoms = np.array([[x[0], x[1]] for x in sources[0]['all.npy']])\n",
    "poes = np.array([[list(x[2][0]) for x in y['all.npy']] for y in sources]).astype(np.float64)\n",
    "inside_log = 1 - poes\n",
    "inside_log[inside_log == 0.] = 10**(-15)\n",
    "lam = -1 * np.log(inside_log) / 50\n",
    "lam_sum = np.sum(lam, axis=0)\n",
    "poe_sum = 1 - np.exp(lam_sum * -50)\n",
    "\n",
    "# (a, b, c) --> a untuk jumlah source, b untuk jumlah site, c untuk jumlah nilai PGA\n",
    "print(poes.shape)"
   ]
  },
  {
   "cell_type": "code",
   "execution_count": 3,
   "id": "c24b2f73",
   "metadata": {},
   "outputs": [],
   "source": [
    "# ganti/tambah selected_poes dengan nilai poe yang diinginkan\n",
    "selected_poes = [0.1, 0.02]\n",
    "\n",
    "selected_pga = np.zeros((poe_sum.shape[0], len(selected_poes)))\n",
    "\n",
    "for i, iter_poe in enumerate(poe_sum):\n",
    "    for j, s_poe in enumerate(selected_poes):\n",
    "        if s_poe <= np.max(iter_poe):\n",
    "            selected_pga[i,j] = np.interp(s_poe, np.flip(iter_poe), np.flip(pga))\n",
    "\n",
    "# save without header\n",
    "# header => lon, lat, POE-1, POE-2, ...\n",
    "np.savetxt(\"./npzfiles/hazard_map.csv\", np.concatenate([geoms, selected_pga], axis=1), delimiter=\",\", fmt='%.10f')"
   ]
  },
  {
   "cell_type": "markdown",
   "id": "1ed4d07b",
   "metadata": {},
   "source": [
    "## \\#\\#\\# Hanya untuk validasi \\#\\#\\#"
   ]
  },
  {
   "cell_type": "code",
   "execution_count": 4,
   "id": "3a7d5561",
   "metadata": {},
   "outputs": [
    {
     "name": "stdout",
     "output_type": "stream",
     "text": [
      "[125.75157834   2.56095759]\n"
     ]
    },
    {
     "data": {
      "text/plain": [
       "[<matplotlib.lines.Line2D at 0x1350a5c10>]"
      ]
     },
     "execution_count": 4,
     "metadata": {},
     "output_type": "execute_result"
    },
    {
     "data": {
      "image/png": "[encoded data removed]",
      "text/plain": [
       "<Figure size 640x480 with 1 Axes>"
      ]
     },
     "metadata": {},
     "output_type": "display_data"
    }
   ],
   "source": [
    "print(geoms[141])\n",
    "plt.plot(pga, poe_sum[141,:])\n",
    "# plt.loglog()"
   ]
  },
  {
   "cell_type": "code",
   "execution_count": 5,
   "id": "7bb3870d",
   "metadata": {},
   "outputs": [
    {
     "name": "stdout",
     "output_type": "stream",
     "text": [
      "True\n",
      "[[7.82203078e-01 7.82203078e-01]\n",
      " [7.01232493e-01 7.01232493e-01]\n",
      " [6.10959589e-01 6.10959589e-01]\n",
      " [5.16229391e-01 5.16229391e-01]\n",
      " [4.22344476e-01 4.22344476e-01]\n",
      " [3.34207863e-01 3.34207863e-01]\n",
      " [2.55665302e-01 2.55665302e-01]\n",
      " [1.89076334e-01 1.89076334e-01]\n",
      " [1.35165542e-01 1.35165542e-01]\n",
      " [9.32627097e-02 9.32627097e-02]\n",
      " [6.20175488e-02 6.20175488e-02]\n",
      " [3.96853313e-02 3.96853313e-02]\n",
      " [2.44120341e-02 2.44120341e-02]\n",
      " [1.44192688e-02 1.44192688e-02]\n",
      " [8.15786235e-03 8.15786235e-03]\n",
      " [4.38526971e-03 4.38526971e-03]\n",
      " [2.21433328e-03 2.21433328e-03]\n",
      " [1.03798765e-03 1.03798765e-03]\n",
      " [4.47389553e-04 4.47389553e-04]\n",
      " [1.74295245e-04 1.74295245e-04]\n",
      " [5.70740885e-05 5.70740885e-05]\n",
      " [1.40967077e-05 1.40967077e-05]\n",
      " [2.19699859e-06 2.19699859e-06]\n",
      " [7.19137603e-08 7.19137603e-08]\n",
      " [0.00000000e+00 0.00000000e+00]\n",
      " [0.00000000e+00 0.00000000e+00]\n",
      " [0.00000000e+00 0.00000000e+00]\n",
      " [0.00000000e+00 0.00000000e+00]\n",
      " [0.00000000e+00 0.00000000e+00]\n",
      " [0.00000000e+00 0.00000000e+00]\n",
      " [0.00000000e+00 0.00000000e+00]\n",
      " [0.00000000e+00 0.00000000e+00]\n",
      " [0.00000000e+00 0.00000000e+00]\n",
      " [0.00000000e+00 0.00000000e+00]\n",
      " [0.00000000e+00 0.00000000e+00]\n",
      " [0.00000000e+00 0.00000000e+00]\n",
      " [0.00000000e+00 0.00000000e+00]\n",
      " [0.00000000e+00 0.00000000e+00]\n",
      " [0.00000000e+00 0.00000000e+00]\n",
      " [0.00000000e+00 0.00000000e+00]\n",
      " [0.00000000e+00 0.00000000e+00]\n",
      " [0.00000000e+00 0.00000000e+00]\n",
      " [0.00000000e+00 0.00000000e+00]\n",
      " [0.00000000e+00 0.00000000e+00]\n",
      " [0.00000000e+00 0.00000000e+00]]\n"
     ]
    }
   ],
   "source": [
    "validator = np.load(\"./npzfiles/validation.npz\")\n",
    "poe_validator = np.array([list(x[2][0]) for x in validator['all.npy']]).astype(np.float64)\n",
    "print(np.allclose(poe_validator, poe_sum))\n",
    "print(np.array([poe_validator[0,:], poe_sum[0,:]]).T)"
   ]
  },
  {
   "cell_type": "code",
   "execution_count": null,
   "id": "cd473ca5",
   "metadata": {},
   "outputs": [],
   "source": []
  }
 ],
 "metadata": {
  "kernelspec": {
   "display_name": "Python 3 (ipykernel)",
   "language": "python",
   "name": "python3"
  },
  "language_info": {
   "codemirror_mode": {
    "name": "ipython",
    "version": 3
   },
   "file_extension": ".py",
   "mimetype": "text/x-python",
   "name": "python",
   "nbconvert_exporter": "python",
   "pygments_lexer": "ipython3",
   "version": "3.9.10"
  }
 },
 "nbformat": 4,
 "nbformat_minor": 5
}
