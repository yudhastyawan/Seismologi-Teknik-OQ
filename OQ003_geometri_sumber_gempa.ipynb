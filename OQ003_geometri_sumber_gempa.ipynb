{
 "cells": [
  {
   "cell_type": "markdown",
   "id": "4b08976c",
   "metadata": {},
   "source": [
    "# Ekstrak geometri sumber gempa dari data shp"
   ]
  },
  {
   "cell_type": "markdown",
   "id": "a34a27a1",
   "metadata": {},
   "source": [
    "Jalankan file ini di jupyter dengan cara mengubah kernel ke `maps`. Jika kernel `maps` belum ada, lakukan langkah-langkah berikut ini:\n",
    "\n",
    "1. Buka Anaconda Prompt\n",
    "2. Buat environment baru: `conda create -n maps python=3.9`\n",
    "3. Aktifkan environment `maps`: `conda activate maps`\n",
    "4. Install `geopandas`: `pip install geopandas`\n",
    "5. Install `matplotlib`: `pip install matplotlib`\n",
    "6. Install `ipykernel`: `pip install ipykernel`\n",
    "7. Daftarkan ke dalam kernel: `python -m ipykernel install --name \"maps\" --display-name \"maps\"`\n",
    "\n",
    "Data yang disimpan dalam format shp dapat digunakan di QGIS"
   ]
  },
  {
   "cell_type": "markdown",
   "id": "14ac00b8",
   "metadata": {},
   "source": [
    "## 1. Import packages dan variabel tambahan"
   ]
  },
  {
   "cell_type": "code",
   "execution_count": 1,
   "id": "87b561eb",
   "metadata": {},
   "outputs": [],
   "source": [
    "# packages\n",
    "from custom_maps import *\n",
    "\n",
    "# open coastal area\n",
    "shp_coast = gpd.read_file('./coastlines/ne_10m_land.shp')\n",
    "\n",
    "# folder penyimpanan\n",
    "dir_figs = os.path.join(os.getcwd(), 'figs')\n",
    "os.makedirs(dir_figs, exist_ok=True)"
   ]
  },
  {
   "cell_type": "markdown",
   "id": "de1bc67e",
   "metadata": {},
   "source": [
    "## 3. Patahan"
   ]
  },
  {
   "cell_type": "code",
   "execution_count": 2,
   "id": "7bf5c2dc",
   "metadata": {},
   "outputs": [
    {
     "name": "stdout",
     "output_type": "stream",
     "text": [
      "0      KumeringNorth\n",
      "1      KumeringSouth\n",
      "2    Semangkobarat-A\n",
      "3    SemangkoTimur-A\n",
      "4    Semangkobarat-B\n",
      "5    SemangkoTimur-B\n",
      "6     SemangkoGraben\n",
      "7            Enggano\n"
     ]
    }
   ],
   "source": [
    "# open faults\n",
    "gdf_faults = gpd.read_file('./shp/faults.shp')\n",
    "# print(gdf_faults[\"Fault_Na_1\"].to_string())\n",
    "print(gdf_faults[\"Segment__1\"].to_string())"
   ]
  },
  {
   "cell_type": "code",
   "execution_count": 3,
   "id": "a3e54c7b",
   "metadata": {},
   "outputs": [],
   "source": [
    "# LAKUKAN SECARA MANUAL\n",
    "### konfigurasi patahan (cek berdasarkan indeks di atas) ###\n",
    "\n",
    "dict_config = {\n",
    "    \"merged\": [\n",
    "        [0,1,2,3,4,5,6]\n",
    "    ],\n",
    "    \"individual\": [\n",
    "        7\n",
    "    ],\n",
    "    \"merged_depth\": [\n",
    "        20\n",
    "    ],\n",
    "    \"individual_depth\": [\n",
    "        20\n",
    "    ]\n",
    "}\n",
    "\n",
    "############################################################\n",
    "\n",
    "fault_geoms, dict_faults = select_faults(gdf_faults, dict_config)\n",
    "\n",
    "# simpan geometri ke dalam file pkl\n",
    "variable_to_pkl(fault_geoms, 'tmp_OQ003_fault_geoms.pkl')\n",
    "variable_to_pkl(dict_faults, 'dict_faults.pkl')"
   ]
  },
  {
   "cell_type": "markdown",
   "id": "ab015df5",
   "metadata": {},
   "source": [
    "**catatan:**\n",
    "\n",
    "konfigurasi patahan (cek berdasarkan indeks gdf_faults)\n",
    "```python\n",
    "dict_config = {\n",
    "    \"merged\": [\n",
    "        [0,1,2,3,4,5,6],\n",
    "        [7,8]\n",
    "    ],\n",
    "    \"individual\": [\n",
    "        9,10,11\n",
    "    ],\n",
    "    \"merged_depth\": [\n",
    "        20,\n",
    "        30\n",
    "    ],\n",
    "    \"individual_depth\": [\n",
    "        20,20,30\n",
    "    ]\n",
    "}\n",
    "```\n",
    "\n",
    "contoh konfigurasi apabila diantaranya tidak ada\n",
    "```python\n",
    "dict_config = {\n",
    "    \"merged\": [\n",
    "        [0,1,2,3],\n",
    "        [4,5,6]\n",
    "    ],\n",
    "    \"individual\": None,\n",
    "    \"merged_depth\": [\n",
    "        20,\n",
    "        30\n",
    "    ],\n",
    "    \"individual_depth\": None\n",
    "}\n",
    "```\n",
    "atau\n",
    "```python\n",
    "dict_config = {\n",
    "    \"merged\": None,\n",
    "    \"individual\": [\n",
    "        0,1,2,3,4,5,6,7\n",
    "    ],\n",
    "    \"merged_depth\": None\n",
    "    \"individual_depth\": [\n",
    "        20,20,20,20,20,20,20,20\n",
    "    ]\n",
    "}\n",
    "```"
   ]
  },
  {
   "cell_type": "markdown",
   "id": "a663c254",
   "metadata": {},
   "source": [
    "## 4. Megathrust"
   ]
  },
  {
   "cell_type": "code",
   "execution_count": 4,
   "id": "9baece4f",
   "metadata": {},
   "outputs": [
    {
     "name": "stdout",
     "output_type": "stream",
     "text": [
      "   OBJECTID   Id Name  Shape_Leng  Shape_Area  \\\n",
      "0       4.0  0.0   M6    8.030056    3.838513   \n",
      "1       7.0  0.0   M7    9.898832    4.603134   \n",
      "\n",
      "                                            geometry  \n",
      "0  POLYGON ((100.78291 -5.14698, 102.10096 -4.228...  \n",
      "1  POLYGON ((102.43611 -7.01734, 103.64118 -5.842...  \n"
     ]
    }
   ],
   "source": [
    "# open megathrust\n",
    "gdf_megathrusts = gpd.read_file('./shp/megathrusts.shp')\n",
    "print(gdf_megathrusts)"
   ]
  },
  {
   "cell_type": "code",
   "execution_count": 5,
   "id": "9a747a08",
   "metadata": {},
   "outputs": [
    {
     "name": "stdout",
     "output_type": "stream",
     "text": [
      "memilih 6 dari [0, 1, 2, 3, 4, 5, 6, 7, 8, 9, 10, 11, 12, 13, 14]\n"
     ]
    },
    {
     "data": {
      "image/png": "[encoded data removed]",
      "text/plain": [
       "<Figure size 800x800 with 1 Axes>"
      ]
     },
     "metadata": {},
     "output_type": "display_data"
    }
   ],
   "source": [
    "# LAKUKAN SECARA MANUAL\n",
    "### bagian yang di edit ###\n",
    "\n",
    "# bagian ini lihat indeks megathrust yang dicari berdasarkan print sebelumnya\n",
    "megathrust_ke = 1                # --> nilai ini disimpan di bagian bawah\n",
    "\n",
    "# bagian ini berfungsi memisahkan garis merah dan garis biru\n",
    "indeks_pemisah = 6               # --> nilai ini disimpan di bagian bawah\n",
    "\n",
    "# skipped_indices digunakan apabila garis merah dan garis biru tidak terpisah dengan nilai default\n",
    "# terdiri dari [indeks pertama, indeks terakhir]\n",
    "# indeks pertama dimulai dari 0, 1, 2, ...\n",
    "# indeks terakhir dimulai dari None, -1, -2, ...\n",
    "skipped_indices = [1, None]      # --> nilai ini disimpan di bagian bawah\n",
    "\n",
    "map_limit = (\n",
    "    (-9, -2),\n",
    "    (100, 110)\n",
    ")\n",
    "\n",
    "###########################\n",
    "\n",
    "# matplotlib\n",
    "fig, ax = plt.subplots(figsize=(8,8))\n",
    "\n",
    "# plot basemap\n",
    "shp_coast.plot(color='none', edgecolor='black', linewidth=1, ax=ax)\n",
    "\n",
    "# check polygon\n",
    "check_megathrust_delimiter(gdf_megathrusts, idx=megathrust_ke, delimiter_number=indeks_pemisah, ax=ax,\n",
    "                          skipped_indices=skipped_indices, map_limit=map_limit)\n",
    "\n",
    "# belum di edit koordinatnya"
   ]
  },
  {
   "cell_type": "code",
   "execution_count": 6,
   "id": "fc3b5699",
   "metadata": {},
   "outputs": [
    {
     "name": "stdout",
     "output_type": "stream",
     "text": [
      "terdapat 2 megathrust\n"
     ]
    }
   ],
   "source": [
    "# LAKUKAN SECARA MANUAL\n",
    "### Masukkan hasil indeks pemisah pada masing-masing megathrust di sini #######\n",
    "### Kode warna bagian atas dapat dilihat pada gambar di atas (lihat legenda) ##\n",
    "\n",
    "indeks_pemisah_masing2_megathrust = [4, 6]\n",
    "\n",
    "kode_warna_bagian_atas = ['r', 'r']\n",
    "\n",
    "skipped_indices = [\n",
    "    [1, None],\n",
    "    [1, None],\n",
    "]\n",
    "\n",
    "###############################################################################\n",
    "\n",
    "megathrust_geoms = create_megathrust_coords(gdf_megathrusts, indeks_pemisah_masing2_megathrust,\n",
    "                                           skipped_indices, kode_warna_bagian_atas, upper_depth=0, lower_depth=50)\n",
    "print(\"terdapat\", len(megathrust_geoms), \"megathrust\")\n",
    "\n",
    "# simpan geometri megathrust ke file pkl\n",
    "variable_to_pkl(megathrust_geoms, \"tmp_OQ003_megathrust_geoms.pkl\")"
   ]
  },
  {
   "cell_type": "markdown",
   "id": "6184502e",
   "metadata": {},
   "source": [
    "Contoh untuk kasus 3 megathrust dengan skipped_indices yang berbeda:\n",
    "\n",
    "```python\n",
    "indeks_pemisah_masing2_megathrust = [11, 6, 12]\n",
    "\n",
    "kode_warna_bagian_atas = ['b', 'r', 'b']\n",
    "\n",
    "skipped_indices = [\n",
    "    [1, -1],\n",
    "    [1, -1],\n",
    "    [1, -2]\n",
    "]\n",
    "```"
   ]
  },
  {
   "cell_type": "markdown",
   "id": "13961162",
   "metadata": {},
   "source": [
    "## 5. Shallow Background"
   ]
  },
  {
   "cell_type": "code",
   "execution_count": 7,
   "id": "3cb93426",
   "metadata": {},
   "outputs": [],
   "source": [
    "# LANGSUNG JALANKAN SAJA (setelah mengganti nama file)\n",
    "# open shallow background\n",
    "gdf_shallow_background = gpd.read_file('./shp/shallow_background.shp')\n",
    "\n",
    "shallow_background_geoms = [\n",
    "    geom.exterior.xy for geom in gdf_shallow_background.geometry\n",
    "]\n",
    "\n",
    "variable_to_pkl(shallow_background_geoms, \"tmp_OQ003_shallow_background_geoms.pkl\")"
   ]
  },
  {
   "cell_type": "markdown",
   "id": "3d7cf23c",
   "metadata": {},
   "source": [
    "## 6. Deep Background (intraslab)"
   ]
  },
  {
   "cell_type": "code",
   "execution_count": 8,
   "id": "e150d840",
   "metadata": {},
   "outputs": [],
   "source": [
    "# LANGSUNG JALANKAN SAJA (setelah mengganti nama file)\n",
    "# open deep background\n",
    "gdf_deep_background = gpd.read_file('./shp/deep_background.shp')\n",
    "\n",
    "deep_background_geoms = [\n",
    "    geom.exterior.xy for geom in gdf_deep_background.geometry\n",
    "]\n",
    "\n",
    "variable_to_pkl(deep_background_geoms, \"tmp_OQ003_deep_background_geoms.pkl\")"
   ]
  },
  {
   "cell_type": "code",
   "execution_count": null,
   "id": "6d90be2c",
   "metadata": {},
   "outputs": [],
   "source": []
  }
 ],
 "metadata": {
  "kernelspec": {
   "display_name": "maps",
   "language": "python",
   "name": "maps"
  },
  "language_info": {
   "codemirror_mode": {
    "name": "ipython",
    "version": 3
   },
   "file_extension": ".py",
   "mimetype": "text/x-python",
   "name": "python",
   "nbconvert_exporter": "python",
   "pygments_lexer": "ipython3",
   "version": "3.9.16"
  }
 },
 "nbformat": 4,
 "nbformat_minor": 5
}
